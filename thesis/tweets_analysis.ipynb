{
 "cells": [
  {
   "cell_type": "code",
   "execution_count": 2,
   "id": "7b71a456",
   "metadata": {},
   "outputs": [],
   "source": [
    "import numpy as np\n",
    "import pandas as pd\n",
    "import matplotlib.pyplot as plt"
   ]
  },
  {
   "cell_type": "code",
   "execution_count": 3,
   "id": "f90349e2",
   "metadata": {},
   "outputs": [
    {
     "name": "stderr",
     "output_type": "stream",
     "text": [
      "C:\\Users\\KAWSAR~1\\AppData\\Local\\Temp/ipykernel_704/768523910.py:1: DtypeWarning: Columns (5,6,7,12) have mixed types. Specify dtype option on import or set low_memory=False.\n",
      "  dataset_t=pd.read_csv(\"archive/Bitcoin_tweets.csv\")\n"
     ]
    }
   ],
   "source": [
    "dataset_t=pd.read_csv(\"archive/Bitcoin_tweets.csv\")"
   ]
  },
  {
   "cell_type": "code",
   "execution_count": 4,
   "id": "0506e67c",
   "metadata": {},
   "outputs": [
    {
     "data": {
      "text/html": [
       "<div>\n",
       "<style scoped>\n",
       "    .dataframe tbody tr th:only-of-type {\n",
       "        vertical-align: middle;\n",
       "    }\n",
       "\n",
       "    .dataframe tbody tr th {\n",
       "        vertical-align: top;\n",
       "    }\n",
       "\n",
       "    .dataframe thead th {\n",
       "        text-align: right;\n",
       "    }\n",
       "</style>\n",
       "<table border=\"1\" class=\"dataframe\">\n",
       "  <thead>\n",
       "    <tr style=\"text-align: right;\">\n",
       "      <th></th>\n",
       "      <th>user_name</th>\n",
       "      <th>user_location</th>\n",
       "      <th>user_description</th>\n",
       "      <th>user_created</th>\n",
       "      <th>user_followers</th>\n",
       "      <th>user_friends</th>\n",
       "      <th>user_favourites</th>\n",
       "      <th>user_verified</th>\n",
       "      <th>date</th>\n",
       "      <th>text</th>\n",
       "      <th>hashtags</th>\n",
       "      <th>source</th>\n",
       "      <th>is_retweet</th>\n",
       "    </tr>\n",
       "  </thead>\n",
       "  <tbody>\n",
       "    <tr>\n",
       "      <th>0</th>\n",
       "      <td>DeSota Wilson</td>\n",
       "      <td>Atlanta, GA</td>\n",
       "      <td>Biz Consultant, real estate, fintech, startups...</td>\n",
       "      <td>2009-04-26 20:05:09</td>\n",
       "      <td>8534.0</td>\n",
       "      <td>7605</td>\n",
       "      <td>4838</td>\n",
       "      <td>False</td>\n",
       "      <td>2021-02-10 23:59:04</td>\n",
       "      <td>Blue Ridge Bank shares halted by NYSE after #b...</td>\n",
       "      <td>['bitcoin']</td>\n",
       "      <td>Twitter Web App</td>\n",
       "      <td>False</td>\n",
       "    </tr>\n",
       "    <tr>\n",
       "      <th>1</th>\n",
       "      <td>CryptoND</td>\n",
       "      <td>NaN</td>\n",
       "      <td>😎 BITCOINLIVE is a Dutch platform aimed at inf...</td>\n",
       "      <td>2019-10-17 20:12:10</td>\n",
       "      <td>6769.0</td>\n",
       "      <td>1532</td>\n",
       "      <td>25483</td>\n",
       "      <td>False</td>\n",
       "      <td>2021-02-10 23:58:48</td>\n",
       "      <td>😎 Today, that's this #Thursday, we will do a \"...</td>\n",
       "      <td>['Thursday', 'Btc', 'wallet', 'security']</td>\n",
       "      <td>Twitter for Android</td>\n",
       "      <td>False</td>\n",
       "    </tr>\n",
       "    <tr>\n",
       "      <th>2</th>\n",
       "      <td>Tdlmatias</td>\n",
       "      <td>London, England</td>\n",
       "      <td>IM Academy : The best #forex, #SelfEducation, ...</td>\n",
       "      <td>2014-11-10 10:50:37</td>\n",
       "      <td>128.0</td>\n",
       "      <td>332</td>\n",
       "      <td>924</td>\n",
       "      <td>False</td>\n",
       "      <td>2021-02-10 23:54:48</td>\n",
       "      <td>Guys evening, I have read this article about B...</td>\n",
       "      <td>NaN</td>\n",
       "      <td>Twitter Web App</td>\n",
       "      <td>False</td>\n",
       "    </tr>\n",
       "    <tr>\n",
       "      <th>3</th>\n",
       "      <td>Crypto is the future</td>\n",
       "      <td>NaN</td>\n",
       "      <td>I will post a lot of buying signals for BTC tr...</td>\n",
       "      <td>2019-09-28 16:48:12</td>\n",
       "      <td>625.0</td>\n",
       "      <td>129</td>\n",
       "      <td>14</td>\n",
       "      <td>False</td>\n",
       "      <td>2021-02-10 23:54:33</td>\n",
       "      <td>$BTC A big chance in a billion! Price: \\487264...</td>\n",
       "      <td>['Bitcoin', 'FX', 'BTC', 'crypto']</td>\n",
       "      <td>dlvr.it</td>\n",
       "      <td>False</td>\n",
       "    </tr>\n",
       "    <tr>\n",
       "      <th>4</th>\n",
       "      <td>Alex Kirchmaier 🇦🇹🇸🇪 #FactsSuperspreader</td>\n",
       "      <td>Europa</td>\n",
       "      <td>Co-founder @RENJERJerky | Forbes 30Under30 | I...</td>\n",
       "      <td>2016-02-03 13:15:55</td>\n",
       "      <td>1249.0</td>\n",
       "      <td>1472</td>\n",
       "      <td>10482</td>\n",
       "      <td>False</td>\n",
       "      <td>2021-02-10 23:54:06</td>\n",
       "      <td>This network is secured by 9 508 nodes as of t...</td>\n",
       "      <td>['BTC']</td>\n",
       "      <td>Twitter Web App</td>\n",
       "      <td>False</td>\n",
       "    </tr>\n",
       "    <tr>\n",
       "      <th>...</th>\n",
       "      <td>...</td>\n",
       "      <td>...</td>\n",
       "      <td>...</td>\n",
       "      <td>...</td>\n",
       "      <td>...</td>\n",
       "      <td>...</td>\n",
       "      <td>...</td>\n",
       "      <td>...</td>\n",
       "      <td>...</td>\n",
       "      <td>...</td>\n",
       "      <td>...</td>\n",
       "      <td>...</td>\n",
       "      <td>...</td>\n",
       "    </tr>\n",
       "    <tr>\n",
       "      <th>95</th>\n",
       "      <td>aWebAnalysis | Crypto</td>\n",
       "      <td>Blockchain</td>\n",
       "      <td>Cryptocurrencies price monitor &amp; analysis tool...</td>\n",
       "      <td>2017-08-30 19:26:58</td>\n",
       "      <td>1877.0</td>\n",
       "      <td>1454</td>\n",
       "      <td>33</td>\n",
       "      <td>False</td>\n",
       "      <td>2021-02-10 23:10:02</td>\n",
       "      <td>Bitcoin BTC Current Price:\\n$45,161.73\\n1 Hour...</td>\n",
       "      <td>['btc', 'bitcoin']</td>\n",
       "      <td>AwebAnalysis</td>\n",
       "      <td>False</td>\n",
       "    </tr>\n",
       "    <tr>\n",
       "      <th>96</th>\n",
       "      <td>Hooligan Abroad (Every dog has its day)</td>\n",
       "      <td>NaN</td>\n",
       "      <td>Ex Equity Strategist. Now trade own book, live...</td>\n",
       "      <td>2014-10-14 07:31:30</td>\n",
       "      <td>355.0</td>\n",
       "      <td>405</td>\n",
       "      <td>8821</td>\n",
       "      <td>False</td>\n",
       "      <td>2021-02-10 23:09:59</td>\n",
       "      <td>@michael_saylor Advertising tactic called \"lin...</td>\n",
       "      <td>['Bitcoin']</td>\n",
       "      <td>TweetDeck</td>\n",
       "      <td>False</td>\n",
       "    </tr>\n",
       "    <tr>\n",
       "      <th>97</th>\n",
       "      <td>Cryptocurrencies / USD</td>\n",
       "      <td>NaN</td>\n",
       "      <td>Stay updated on the main cryptocurrencies of t...</td>\n",
       "      <td>2018-08-02 10:06:05</td>\n",
       "      <td>3910.0</td>\n",
       "      <td>1</td>\n",
       "      <td>10</td>\n",
       "      <td>False</td>\n",
       "      <td>2021-02-10 23:09:39</td>\n",
       "      <td>🔄 Prices update in $USD (1 hour):\\n\\n$BTC   - ...</td>\n",
       "      <td>NaN</td>\n",
       "      <td>Cryptocurrencies prices to USD</td>\n",
       "      <td>False</td>\n",
       "    </tr>\n",
       "    <tr>\n",
       "      <th>98</th>\n",
       "      <td>www.DeFi.radio</td>\n",
       "      <td>DeFi</td>\n",
       "      <td>playlist:\\nhttps://t.co/xKJQE3EQSu\\nhttps://t....</td>\n",
       "      <td>2020-07-03 02:02:20</td>\n",
       "      <td>274.0</td>\n",
       "      <td>1053</td>\n",
       "      <td>4401</td>\n",
       "      <td>False</td>\n",
       "      <td>2021-02-10 23:09:18</td>\n",
       "      <td>just added Episode 25 - Insane 888ETH ($1.5M) ...</td>\n",
       "      <td>['DeFi', 'BTC', 'ETH', 'BITCOIN', 'CRYPTO']</td>\n",
       "      <td>Integromat</td>\n",
       "      <td>False</td>\n",
       "    </tr>\n",
       "    <tr>\n",
       "      <th>99</th>\n",
       "      <td>Nishant Bhardwaj</td>\n",
       "      <td>Kota, Rajasthan</td>\n",
       "      <td>Philosopher, psychologist, spiritual, writer a...</td>\n",
       "      <td>2010-07-01 06:59:21</td>\n",
       "      <td>662.0</td>\n",
       "      <td>155</td>\n",
       "      <td>915</td>\n",
       "      <td>False</td>\n",
       "      <td>2021-02-10 23:08:14</td>\n",
       "      <td>$FTM is looking super amazing. Should easily d...</td>\n",
       "      <td>['Bitcoin', 'BTC', 'dogecoin']</td>\n",
       "      <td>Twitter for iPhone</td>\n",
       "      <td>False</td>\n",
       "    </tr>\n",
       "  </tbody>\n",
       "</table>\n",
       "<p>100 rows × 13 columns</p>\n",
       "</div>"
      ],
      "text/plain": [
       "                                   user_name    user_location  \\\n",
       "0                              DeSota Wilson      Atlanta, GA   \n",
       "1                                   CryptoND              NaN   \n",
       "2                                  Tdlmatias  London, England   \n",
       "3                       Crypto is the future              NaN   \n",
       "4   Alex Kirchmaier 🇦🇹🇸🇪 #FactsSuperspreader           Europa   \n",
       "..                                       ...              ...   \n",
       "95                     aWebAnalysis | Crypto       Blockchain   \n",
       "96   Hooligan Abroad (Every dog has its day)              NaN   \n",
       "97                    Cryptocurrencies / USD              NaN   \n",
       "98                            www.DeFi.radio             DeFi   \n",
       "99                          Nishant Bhardwaj  Kota, Rajasthan   \n",
       "\n",
       "                                     user_description         user_created  \\\n",
       "0   Biz Consultant, real estate, fintech, startups...  2009-04-26 20:05:09   \n",
       "1   😎 BITCOINLIVE is a Dutch platform aimed at inf...  2019-10-17 20:12:10   \n",
       "2   IM Academy : The best #forex, #SelfEducation, ...  2014-11-10 10:50:37   \n",
       "3   I will post a lot of buying signals for BTC tr...  2019-09-28 16:48:12   \n",
       "4   Co-founder @RENJERJerky | Forbes 30Under30 | I...  2016-02-03 13:15:55   \n",
       "..                                                ...                  ...   \n",
       "95  Cryptocurrencies price monitor & analysis tool...  2017-08-30 19:26:58   \n",
       "96  Ex Equity Strategist. Now trade own book, live...  2014-10-14 07:31:30   \n",
       "97  Stay updated on the main cryptocurrencies of t...  2018-08-02 10:06:05   \n",
       "98  playlist:\\nhttps://t.co/xKJQE3EQSu\\nhttps://t....  2020-07-03 02:02:20   \n",
       "99  Philosopher, psychologist, spiritual, writer a...  2010-07-01 06:59:21   \n",
       "\n",
       "    user_followers user_friends user_favourites user_verified  \\\n",
       "0           8534.0         7605            4838         False   \n",
       "1           6769.0         1532           25483         False   \n",
       "2            128.0          332             924         False   \n",
       "3            625.0          129              14         False   \n",
       "4           1249.0         1472           10482         False   \n",
       "..             ...          ...             ...           ...   \n",
       "95          1877.0         1454              33         False   \n",
       "96           355.0          405            8821         False   \n",
       "97          3910.0            1              10         False   \n",
       "98           274.0         1053            4401         False   \n",
       "99           662.0          155             915         False   \n",
       "\n",
       "                   date                                               text  \\\n",
       "0   2021-02-10 23:59:04  Blue Ridge Bank shares halted by NYSE after #b...   \n",
       "1   2021-02-10 23:58:48  😎 Today, that's this #Thursday, we will do a \"...   \n",
       "2   2021-02-10 23:54:48  Guys evening, I have read this article about B...   \n",
       "3   2021-02-10 23:54:33  $BTC A big chance in a billion! Price: \\487264...   \n",
       "4   2021-02-10 23:54:06  This network is secured by 9 508 nodes as of t...   \n",
       "..                  ...                                                ...   \n",
       "95  2021-02-10 23:10:02  Bitcoin BTC Current Price:\\n$45,161.73\\n1 Hour...   \n",
       "96  2021-02-10 23:09:59  @michael_saylor Advertising tactic called \"lin...   \n",
       "97  2021-02-10 23:09:39  🔄 Prices update in $USD (1 hour):\\n\\n$BTC   - ...   \n",
       "98  2021-02-10 23:09:18  just added Episode 25 - Insane 888ETH ($1.5M) ...   \n",
       "99  2021-02-10 23:08:14  $FTM is looking super amazing. Should easily d...   \n",
       "\n",
       "                                       hashtags  \\\n",
       "0                                   ['bitcoin']   \n",
       "1     ['Thursday', 'Btc', 'wallet', 'security']   \n",
       "2                                           NaN   \n",
       "3            ['Bitcoin', 'FX', 'BTC', 'crypto']   \n",
       "4                                       ['BTC']   \n",
       "..                                          ...   \n",
       "95                           ['btc', 'bitcoin']   \n",
       "96                                  ['Bitcoin']   \n",
       "97                                          NaN   \n",
       "98  ['DeFi', 'BTC', 'ETH', 'BITCOIN', 'CRYPTO']   \n",
       "99               ['Bitcoin', 'BTC', 'dogecoin']   \n",
       "\n",
       "                            source is_retweet  \n",
       "0                  Twitter Web App      False  \n",
       "1              Twitter for Android      False  \n",
       "2                  Twitter Web App      False  \n",
       "3                          dlvr.it      False  \n",
       "4                  Twitter Web App      False  \n",
       "..                             ...        ...  \n",
       "95                    AwebAnalysis      False  \n",
       "96                       TweetDeck      False  \n",
       "97  Cryptocurrencies prices to USD      False  \n",
       "98                      Integromat      False  \n",
       "99              Twitter for iPhone      False  \n",
       "\n",
       "[100 rows x 13 columns]"
      ]
     },
     "execution_count": 4,
     "metadata": {},
     "output_type": "execute_result"
    }
   ],
   "source": [
    "dataset_t.head(100)"
   ]
  },
  {
   "cell_type": "code",
   "execution_count": 4,
   "id": "8d0296b0",
   "metadata": {},
   "outputs": [],
   "source": [
    "dataset_p=pd.read_csv(\"archive/Bitcoin.csv\")"
   ]
  },
  {
   "cell_type": "code",
   "execution_count": 5,
   "id": "e967b511",
   "metadata": {},
   "outputs": [
    {
     "data": {
      "text/html": [
       "<div>\n",
       "<style scoped>\n",
       "    .dataframe tbody tr th:only-of-type {\n",
       "        vertical-align: middle;\n",
       "    }\n",
       "\n",
       "    .dataframe tbody tr th {\n",
       "        vertical-align: top;\n",
       "    }\n",
       "\n",
       "    .dataframe thead th {\n",
       "        text-align: right;\n",
       "    }\n",
       "</style>\n",
       "<table border=\"1\" class=\"dataframe\">\n",
       "  <thead>\n",
       "    <tr style=\"text-align: right;\">\n",
       "      <th></th>\n",
       "      <th>Date</th>\n",
       "      <th>Open</th>\n",
       "      <th>High</th>\n",
       "      <th>Low</th>\n",
       "      <th>Close</th>\n",
       "      <th>Volume</th>\n",
       "      <th>Market Cap</th>\n",
       "    </tr>\n",
       "  </thead>\n",
       "  <tbody>\n",
       "    <tr>\n",
       "      <th>0</th>\n",
       "      <td>28-05-2021</td>\n",
       "      <td>38507.083075</td>\n",
       "      <td>38856.967885</td>\n",
       "      <td>34779.039427</td>\n",
       "      <td>35697.606390</td>\n",
       "      <td>5.520019e+10</td>\n",
       "      <td>6.682839e+11</td>\n",
       "    </tr>\n",
       "    <tr>\n",
       "      <th>1</th>\n",
       "      <td>27-05-2021</td>\n",
       "      <td>39316.889678</td>\n",
       "      <td>40379.617672</td>\n",
       "      <td>37247.903676</td>\n",
       "      <td>38436.968535</td>\n",
       "      <td>4.321097e+10</td>\n",
       "      <td>7.195381e+11</td>\n",
       "    </tr>\n",
       "    <tr>\n",
       "      <th>2</th>\n",
       "      <td>26-05-2021</td>\n",
       "      <td>38392.623656</td>\n",
       "      <td>40782.078183</td>\n",
       "      <td>37905.834854</td>\n",
       "      <td>39294.197382</td>\n",
       "      <td>5.134674e+10</td>\n",
       "      <td>7.355564e+11</td>\n",
       "    </tr>\n",
       "    <tr>\n",
       "      <th>3</th>\n",
       "      <td>25-05-2021</td>\n",
       "      <td>38795.780250</td>\n",
       "      <td>39776.349798</td>\n",
       "      <td>36581.428916</td>\n",
       "      <td>38402.223851</td>\n",
       "      <td>5.621192e+10</td>\n",
       "      <td>7.188294e+11</td>\n",
       "    </tr>\n",
       "    <tr>\n",
       "      <th>4</th>\n",
       "      <td>24-05-2021</td>\n",
       "      <td>34700.363568</td>\n",
       "      <td>39835.139830</td>\n",
       "      <td>34551.080550</td>\n",
       "      <td>38705.978637</td>\n",
       "      <td>6.735958e+10</td>\n",
       "      <td>7.243321e+11</td>\n",
       "    </tr>\n",
       "  </tbody>\n",
       "</table>\n",
       "</div>"
      ],
      "text/plain": [
       "         Date          Open          High           Low         Close  \\\n",
       "0  28-05-2021  38507.083075  38856.967885  34779.039427  35697.606390   \n",
       "1  27-05-2021  39316.889678  40379.617672  37247.903676  38436.968535   \n",
       "2  26-05-2021  38392.623656  40782.078183  37905.834854  39294.197382   \n",
       "3  25-05-2021  38795.780250  39776.349798  36581.428916  38402.223851   \n",
       "4  24-05-2021  34700.363568  39835.139830  34551.080550  38705.978637   \n",
       "\n",
       "         Volume    Market Cap  \n",
       "0  5.520019e+10  6.682839e+11  \n",
       "1  4.321097e+10  7.195381e+11  \n",
       "2  5.134674e+10  7.355564e+11  \n",
       "3  5.621192e+10  7.188294e+11  \n",
       "4  6.735958e+10  7.243321e+11  "
      ]
     },
     "execution_count": 5,
     "metadata": {},
     "output_type": "execute_result"
    }
   ],
   "source": [
    "dataset_p.head(5)"
   ]
  },
  {
   "cell_type": "code",
   "execution_count": 6,
   "id": "65431fe6",
   "metadata": {},
   "outputs": [
    {
     "data": {
      "text/plain": [
       "dtype('O')"
      ]
     },
     "execution_count": 6,
     "metadata": {},
     "output_type": "execute_result"
    }
   ],
   "source": [
    "dataset_t.user_created.dtype"
   ]
  },
  {
   "cell_type": "code",
   "execution_count": 7,
   "id": "080abfdc",
   "metadata": {},
   "outputs": [
    {
     "data": {
      "text/plain": [
       "'2009-04-26 20:05:09'"
      ]
     },
     "execution_count": 7,
     "metadata": {},
     "output_type": "execute_result"
    }
   ],
   "source": [
    "dataset_t.user_created[0]"
   ]
  },
  {
   "cell_type": "code",
   "execution_count": 8,
   "id": "39bcc199",
   "metadata": {},
   "outputs": [
    {
     "data": {
      "text/plain": [
       "user_name            object\n",
       "user_location        object\n",
       "user_description     object\n",
       "user_created         object\n",
       "user_followers      float64\n",
       "user_friends         object\n",
       "user_favourites      object\n",
       "user_verified        object\n",
       "date                 object\n",
       "text                 object\n",
       "hashtags             object\n",
       "source               object\n",
       "is_retweet           object\n",
       "dtype: object"
      ]
     },
     "execution_count": 8,
     "metadata": {},
     "output_type": "execute_result"
    }
   ],
   "source": [
    "dataset_t.dtypes"
   ]
  },
  {
   "cell_type": "code",
   "execution_count": 11,
   "id": "e15bcf13",
   "metadata": {},
   "outputs": [
    {
     "data": {
      "text/plain": [
       "Timestamp('2009-04-26 20:05:09')"
      ]
     },
     "execution_count": 11,
     "metadata": {},
     "output_type": "execute_result"
    }
   ],
   "source": [
    " pd.to_datetime(dataset_t.user_created[0])"
   ]
  },
  {
   "cell_type": "code",
   "execution_count": null,
   "id": "38277709",
   "metadata": {},
   "outputs": [
    {
     "name": "stderr",
     "output_type": "stream",
     "text": [
      "C:\\Users\\KAWSAR~1\\AppData\\Local\\Temp/ipykernel_2168/792436958.py:3: SettingWithCopyWarning: \n",
      "A value is trying to be set on a copy of a slice from a DataFrame\n",
      "\n",
      "See the caveats in the documentation: https://pandas.pydata.org/pandas-docs/stable/user_guide/indexing.html#returning-a-view-versus-a-copy\n",
      "  dataset_t[\"date\"][i]=pd.to_datetime(dataset_t.user_created[i])\n"
     ]
    }
   ],
   "source": [
    "dataset_t[\"date\"]=pd.to_datetime(dataset_t.user_created)"
   ]
  },
  {
   "cell_type": "code",
   "execution_count": 9,
   "id": "f0a84575",
   "metadata": {},
   "outputs": [
    {
     "data": {
      "text/plain": [
       "2284926"
      ]
     },
     "execution_count": 9,
     "metadata": {},
     "output_type": "execute_result"
    }
   ],
   "source": [
    "len( dataset_t.user_created)"
   ]
  },
  {
   "cell_type": "code",
   "execution_count": 10,
   "id": "db27c050",
   "metadata": {},
   "outputs": [
    {
     "data": {
      "text/plain": [
       "Timestamp('2009-04-26 20:05:09')"
      ]
     },
     "execution_count": 10,
     "metadata": {},
     "output_type": "execute_result"
    }
   ],
   "source": [
    " pd.to_datetime(dataset_t.user_created[0])"
   ]
  },
  {
   "cell_type": "code",
   "execution_count": 12,
   "id": "d1e03b96",
   "metadata": {},
   "outputs": [
    {
     "data": {
      "text/plain": [
       "0          2021-02-10 23:59:04\n",
       "1          2021-02-10 23:58:48\n",
       "2          2021-02-10 23:54:48\n",
       "3          2021-02-10 23:54:33\n",
       "4          2021-02-10 23:54:06\n",
       "                  ...         \n",
       "2284921    2022-02-09 20:55:00\n",
       "2284922    2022-02-09 20:54:50\n",
       "2284923    2022-02-09 20:54:50\n",
       "2284924    2022-02-09 20:54:36\n",
       "2284925    2022-02-09 20:54:35\n",
       "Name: date, Length: 2284926, dtype: object"
      ]
     },
     "execution_count": 12,
     "metadata": {},
     "output_type": "execute_result"
    }
   ],
   "source": [
    "dataset_t[\"date\"]"
   ]
  },
  {
   "cell_type": "code",
   "execution_count": 13,
   "id": "243bfdc7",
   "metadata": {},
   "outputs": [
    {
     "data": {
      "text/plain": [
       "'2021-02-10 23:59:04'"
      ]
     },
     "execution_count": 13,
     "metadata": {},
     "output_type": "execute_result"
    }
   ],
   "source": [
    "dataset_t[\"date\"][0]"
   ]
  },
  {
   "cell_type": "code",
   "execution_count": 22,
   "id": "5e4fc379",
   "metadata": {},
   "outputs": [
    {
     "ename": "ValueError",
     "evalue": "time data '2009-04-26 20:05:09' does not match format '%m-%d-%Y '",
     "output_type": "error",
     "traceback": [
      "\u001b[1;31m---------------------------------------------------------------------------\u001b[0m",
      "\u001b[1;31mValueError\u001b[0m                                Traceback (most recent call last)",
      "\u001b[1;32mC:\\Users\\KAWSAR~1\\AppData\\Local\\Temp/ipykernel_16992/871883541.py\u001b[0m in \u001b[0;36m<module>\u001b[1;34m\u001b[0m\n\u001b[0;32m      1\u001b[0m \u001b[1;32mfrom\u001b[0m \u001b[0mdatetime\u001b[0m \u001b[1;32mimport\u001b[0m \u001b[0mdatetime\u001b[0m\u001b[1;33m\u001b[0m\u001b[1;33m\u001b[0m\u001b[0m\n\u001b[1;32m----> 2\u001b[1;33m \u001b[0mdatetime\u001b[0m\u001b[1;33m.\u001b[0m\u001b[0mstrptime\u001b[0m\u001b[1;33m(\u001b[0m\u001b[0mdataset_t\u001b[0m\u001b[1;33m.\u001b[0m\u001b[0muser_created\u001b[0m\u001b[1;33m[\u001b[0m\u001b[1;36m0\u001b[0m\u001b[1;33m]\u001b[0m\u001b[1;33m,\u001b[0m\u001b[1;34m'%m-%d-%Y '\u001b[0m\u001b[1;33m)\u001b[0m\u001b[1;33m\u001b[0m\u001b[1;33m\u001b[0m\u001b[0m\n\u001b[0m",
      "\u001b[1;32mF:\\game\\anaconda\\lib\\_strptime.py\u001b[0m in \u001b[0;36m_strptime_datetime\u001b[1;34m(cls, data_string, format)\u001b[0m\n\u001b[0;32m    566\u001b[0m     \"\"\"Return a class cls instance based on the input string and the\n\u001b[0;32m    567\u001b[0m     format string.\"\"\"\n\u001b[1;32m--> 568\u001b[1;33m     \u001b[0mtt\u001b[0m\u001b[1;33m,\u001b[0m \u001b[0mfraction\u001b[0m\u001b[1;33m,\u001b[0m \u001b[0mgmtoff_fraction\u001b[0m \u001b[1;33m=\u001b[0m \u001b[0m_strptime\u001b[0m\u001b[1;33m(\u001b[0m\u001b[0mdata_string\u001b[0m\u001b[1;33m,\u001b[0m \u001b[0mformat\u001b[0m\u001b[1;33m)\u001b[0m\u001b[1;33m\u001b[0m\u001b[1;33m\u001b[0m\u001b[0m\n\u001b[0m\u001b[0;32m    569\u001b[0m     \u001b[0mtzname\u001b[0m\u001b[1;33m,\u001b[0m \u001b[0mgmtoff\u001b[0m \u001b[1;33m=\u001b[0m \u001b[0mtt\u001b[0m\u001b[1;33m[\u001b[0m\u001b[1;33m-\u001b[0m\u001b[1;36m2\u001b[0m\u001b[1;33m:\u001b[0m\u001b[1;33m]\u001b[0m\u001b[1;33m\u001b[0m\u001b[1;33m\u001b[0m\u001b[0m\n\u001b[0;32m    570\u001b[0m     \u001b[0margs\u001b[0m \u001b[1;33m=\u001b[0m \u001b[0mtt\u001b[0m\u001b[1;33m[\u001b[0m\u001b[1;33m:\u001b[0m\u001b[1;36m6\u001b[0m\u001b[1;33m]\u001b[0m \u001b[1;33m+\u001b[0m \u001b[1;33m(\u001b[0m\u001b[0mfraction\u001b[0m\u001b[1;33m,\u001b[0m\u001b[1;33m)\u001b[0m\u001b[1;33m\u001b[0m\u001b[1;33m\u001b[0m\u001b[0m\n",
      "\u001b[1;32mF:\\game\\anaconda\\lib\\_strptime.py\u001b[0m in \u001b[0;36m_strptime\u001b[1;34m(data_string, format)\u001b[0m\n\u001b[0;32m    347\u001b[0m     \u001b[0mfound\u001b[0m \u001b[1;33m=\u001b[0m \u001b[0mformat_regex\u001b[0m\u001b[1;33m.\u001b[0m\u001b[0mmatch\u001b[0m\u001b[1;33m(\u001b[0m\u001b[0mdata_string\u001b[0m\u001b[1;33m)\u001b[0m\u001b[1;33m\u001b[0m\u001b[1;33m\u001b[0m\u001b[0m\n\u001b[0;32m    348\u001b[0m     \u001b[1;32mif\u001b[0m \u001b[1;32mnot\u001b[0m \u001b[0mfound\u001b[0m\u001b[1;33m:\u001b[0m\u001b[1;33m\u001b[0m\u001b[1;33m\u001b[0m\u001b[0m\n\u001b[1;32m--> 349\u001b[1;33m         raise ValueError(\"time data %r does not match format %r\" %\n\u001b[0m\u001b[0;32m    350\u001b[0m                          (data_string, format))\n\u001b[0;32m    351\u001b[0m     \u001b[1;32mif\u001b[0m \u001b[0mlen\u001b[0m\u001b[1;33m(\u001b[0m\u001b[0mdata_string\u001b[0m\u001b[1;33m)\u001b[0m \u001b[1;33m!=\u001b[0m \u001b[0mfound\u001b[0m\u001b[1;33m.\u001b[0m\u001b[0mend\u001b[0m\u001b[1;33m(\u001b[0m\u001b[1;33m)\u001b[0m\u001b[1;33m:\u001b[0m\u001b[1;33m\u001b[0m\u001b[1;33m\u001b[0m\u001b[0m\n",
      "\u001b[1;31mValueError\u001b[0m: time data '2009-04-26 20:05:09' does not match format '%m-%d-%Y '"
     ]
    }
   ],
   "source": [
    "from datetime import datetime \n",
    "datetime.strptime(dataset_t.user_created[0], '%m-%d-%Y ')"
   ]
  },
  {
   "cell_type": "code",
   "execution_count": 21,
   "id": "b26b083b",
   "metadata": {},
   "outputs": [
    {
     "data": {
      "text/plain": [
       "'2009-04-26 20:05:09'"
      ]
     },
     "execution_count": 21,
     "metadata": {},
     "output_type": "execute_result"
    }
   ],
   "source": [
    "dataset_t.user_created[0]"
   ]
  },
  {
   "cell_type": "code",
   "execution_count": null,
   "id": "93f5f601",
   "metadata": {},
   "outputs": [],
   "source": []
  }
 ],
 "metadata": {
  "kernelspec": {
   "display_name": "Python 3 (ipykernel)",
   "language": "python",
   "name": "python3"
  },
  "language_info": {
   "codemirror_mode": {
    "name": "ipython",
    "version": 3
   },
   "file_extension": ".py",
   "mimetype": "text/x-python",
   "name": "python",
   "nbconvert_exporter": "python",
   "pygments_lexer": "ipython3",
   "version": "3.8.12"
  }
 },
 "nbformat": 4,
 "nbformat_minor": 5
}
