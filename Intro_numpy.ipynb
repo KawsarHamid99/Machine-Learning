{
 "cells": [
  {
   "cell_type": "code",
   "execution_count": 5,
   "id": "f21c9d34",
   "metadata": {},
   "outputs": [],
   "source": [
    "import numpy as np\n"
   ]
  },
  {
   "cell_type": "markdown",
   "id": "fb090327",
   "metadata": {},
   "source": [
    "## datatype & attributes"
   ]
  },
  {
   "cell_type": "code",
   "execution_count": 6,
   "id": "7eb5e8e1",
   "metadata": {},
   "outputs": [
    {
     "data": {
      "text/plain": [
       "array([1, 2, 3])"
      ]
     },
     "execution_count": 6,
     "metadata": {},
     "output_type": "execute_result"
    }
   ],
   "source": [
    " # numpy's main data type is ndarray\n",
    "a1 = np.array([1,2,3])\n",
    "a1"
   ]
  },
  {
   "cell_type": "code",
   "execution_count": 7,
   "id": "69233b9b",
   "metadata": {},
   "outputs": [
    {
     "data": {
      "text/plain": [
       "numpy.ndarray"
      ]
     },
     "execution_count": 7,
     "metadata": {},
     "output_type": "execute_result"
    }
   ],
   "source": [
    "type(a1)"
   ]
  },
  {
   "cell_type": "markdown",
   "id": "2c3dd051",
   "metadata": {},
   "source": [
    "# Create a data frame from a numpy array"
   ]
  },
  {
   "cell_type": "code",
   "execution_count": 8,
   "id": "7c2472d7",
   "metadata": {},
   "outputs": [
    {
     "data": {
      "text/html": [
       "<div>\n",
       "<style scoped>\n",
       "    .dataframe tbody tr th:only-of-type {\n",
       "        vertical-align: middle;\n",
       "    }\n",
       "\n",
       "    .dataframe tbody tr th {\n",
       "        vertical-align: top;\n",
       "    }\n",
       "\n",
       "    .dataframe thead th {\n",
       "        text-align: right;\n",
       "    }\n",
       "</style>\n",
       "<table border=\"1\" class=\"dataframe\">\n",
       "  <thead>\n",
       "    <tr style=\"text-align: right;\">\n",
       "      <th></th>\n",
       "      <th>0</th>\n",
       "      <th>1</th>\n",
       "      <th>2</th>\n",
       "    </tr>\n",
       "  </thead>\n",
       "  <tbody>\n",
       "    <tr>\n",
       "      <th>0</th>\n",
       "      <td>2</td>\n",
       "      <td>3</td>\n",
       "      <td>4</td>\n",
       "    </tr>\n",
       "    <tr>\n",
       "      <th>1</th>\n",
       "      <td>5</td>\n",
       "      <td>6</td>\n",
       "      <td>7</td>\n",
       "    </tr>\n",
       "  </tbody>\n",
       "</table>\n",
       "</div>"
      ],
      "text/plain": [
       "   0  1  2\n",
       "0  2  3  4\n",
       "1  5  6  7"
      ]
     },
     "execution_count": 8,
     "metadata": {},
     "output_type": "execute_result"
    }
   ],
   "source": [
    "import pandas as pd\n",
    "a2= np.array([[2,3,4],[5,6,7]])\n",
    "df=pd.DataFrame(a2)\n",
    "df"
   ]
  },
  {
   "cell_type": "code",
   "execution_count": 9,
   "id": "b0b3af57",
   "metadata": {},
   "outputs": [
    {
     "data": {
      "text/plain": [
       "array([1, 2, 3])"
      ]
     },
     "execution_count": 9,
     "metadata": {},
     "output_type": "execute_result"
    }
   ],
   "source": [
    "sample_array=np.array([1, 2, 3])\n",
    "sample_array"
   ]
  },
  {
   "cell_type": "code",
   "execution_count": 10,
   "id": "281e1bd3",
   "metadata": {},
   "outputs": [
    {
     "data": {
      "text/plain": [
       "dtype('int32')"
      ]
     },
     "execution_count": 10,
     "metadata": {},
     "output_type": "execute_result"
    }
   ],
   "source": [
    "sample_array.dtype"
   ]
  },
  {
   "cell_type": "code",
   "execution_count": 11,
   "id": "21d54322",
   "metadata": {},
   "outputs": [
    {
     "data": {
      "text/plain": [
       "array([[1., 1., 1.],\n",
       "       [1., 1., 1.]])"
      ]
     },
     "execution_count": 11,
     "metadata": {},
     "output_type": "execute_result"
    }
   ],
   "source": [
    "ones = np.ones((2,3))\n",
    "ones"
   ]
  },
  {
   "cell_type": "code",
   "execution_count": 12,
   "id": "94274b10",
   "metadata": {},
   "outputs": [
    {
     "data": {
      "text/plain": [
       "array([[6, 1, 2, 4, 9],\n",
       "       [4, 5, 2, 7, 6],\n",
       "       [2, 3, 8, 2, 5]])"
      ]
     },
     "execution_count": 12,
     "metadata": {},
     "output_type": "execute_result"
    }
   ],
   "source": [
    "random_array=np.random.randint(0,10,size=(3,5))\n",
    "random_array"
   ]
  },
  {
   "cell_type": "code",
   "execution_count": 13,
   "id": "229ef70b",
   "metadata": {},
   "outputs": [
    {
     "data": {
      "text/plain": [
       "15"
      ]
     },
     "execution_count": 13,
     "metadata": {},
     "output_type": "execute_result"
    }
   ],
   "source": [
    "random_array.size"
   ]
  },
  {
   "cell_type": "code",
   "execution_count": 14,
   "id": "6792d4b3",
   "metadata": {
    "scrolled": true
   },
   "outputs": [
    {
     "data": {
      "text/plain": [
       "(3, 5)"
      ]
     },
     "execution_count": 14,
     "metadata": {},
     "output_type": "execute_result"
    }
   ],
   "source": [
    "random_array.shape"
   ]
  },
  {
   "cell_type": "code",
   "execution_count": 15,
   "id": "70ff7e83",
   "metadata": {},
   "outputs": [
    {
     "data": {
      "text/plain": [
       "array([[0.59391637, 0.72374017, 0.15253714],\n",
       "       [0.13541482, 0.82839949, 0.36179426],\n",
       "       [0.93535522, 0.85696653, 0.33615635],\n",
       "       [0.55360924, 0.39511106, 0.92638284],\n",
       "       [0.43365314, 0.68478796, 0.5881755 ]])"
      ]
     },
     "execution_count": 15,
     "metadata": {},
     "output_type": "execute_result"
    }
   ],
   "source": [
    "r_a2=np.random.random((5,3))\n",
    "r_a2"
   ]
  },
  {
   "cell_type": "markdown",
   "id": "c60ef8cc",
   "metadata": {},
   "source": [
    "# Pseudo-random number\n",
    "#np.random.seed()\n"
   ]
  },
  {
   "cell_type": "code",
   "execution_count": 16,
   "id": "f3113cb3",
   "metadata": {},
   "outputs": [
    {
     "data": {
      "text/plain": [
       "array([[5, 0, 3],\n",
       "       [3, 7, 9],\n",
       "       [3, 5, 2],\n",
       "       [4, 7, 6],\n",
       "       [8, 8, 1]])"
      ]
     },
     "execution_count": 16,
     "metadata": {},
     "output_type": "execute_result"
    }
   ],
   "source": [
    "np.random.seed(0)\n",
    "r_a4=np.random.randint(10,size=(5,3))\n",
    "r_a4"
   ]
  },
  {
   "cell_type": "code",
   "execution_count": 17,
   "id": "d1685dad",
   "metadata": {},
   "outputs": [
    {
     "data": {
      "text/plain": [
       "array([[0.01037415, 0.50187459, 0.49577329],\n",
       "       [0.13382953, 0.14211109, 0.21855868],\n",
       "       [0.41850818, 0.24810117, 0.08405965],\n",
       "       [0.34549864, 0.16677635, 0.87855909],\n",
       "       [0.95096403, 0.03874838, 0.69910739]])"
      ]
     },
     "execution_count": 17,
     "metadata": {},
     "output_type": "execute_result"
    }
   ],
   "source": [
    "np.random.seed(seed=9)\n",
    "r_a5=np.random.random((5,3))\n",
    "r_a5"
   ]
  },
  {
   "cell_type": "markdown",
   "id": "19c9183e",
   "metadata": {},
   "source": [
    "## viewing arrays and matrices"
   ]
  },
  {
   "cell_type": "code",
   "execution_count": 18,
   "id": "d0d32387",
   "metadata": {},
   "outputs": [
    {
     "data": {
      "text/plain": [
       "array([0, 1, 2, 3, 4, 5, 6, 7, 8, 9])"
      ]
     },
     "execution_count": 18,
     "metadata": {},
     "output_type": "execute_result"
    }
   ],
   "source": [
    "#unique array\n",
    "np.unique(r_a4)"
   ]
  },
  {
   "cell_type": "code",
   "execution_count": 19,
   "id": "dd08ce87",
   "metadata": {},
   "outputs": [
    {
     "data": {
      "text/plain": [
       "array([[[[8, 2, 6, 8, 1],\n",
       "         [8, 3, 5, 3, 6],\n",
       "         [7, 9, 0, 8, 1],\n",
       "         [8, 1, 6, 6, 2]],\n",
       "\n",
       "        [[8, 4, 5, 3, 4],\n",
       "         [0, 8, 0, 4, 5],\n",
       "         [4, 8, 3, 8, 4],\n",
       "         [8, 0, 1, 2, 3]],\n",
       "\n",
       "        [[7, 7, 2, 0, 4],\n",
       "         [6, 2, 2, 2, 3],\n",
       "         [9, 2, 1, 3, 0],\n",
       "         [1, 0, 2, 0, 4]]],\n",
       "\n",
       "\n",
       "       [[[8, 0, 7, 0, 2],\n",
       "         [4, 0, 1, 6, 7],\n",
       "         [6, 1, 7, 6, 2],\n",
       "         [5, 0, 0, 9, 5]],\n",
       "\n",
       "        [[3, 7, 0, 6, 9],\n",
       "         [2, 6, 5, 0, 9],\n",
       "         [0, 5, 2, 5, 3],\n",
       "         [6, 3, 1, 6, 1]],\n",
       "\n",
       "        [[8, 8, 6, 8, 1],\n",
       "         [7, 0, 1, 3, 6],\n",
       "         [2, 0, 7, 4, 2],\n",
       "         [8, 8, 1, 2, 4]]]])"
      ]
     },
     "execution_count": 19,
     "metadata": {},
     "output_type": "execute_result"
    }
   ],
   "source": [
    "r_a6=np.random.randint(10,size=(2,3,4,5))\n",
    "r_a6"
   ]
  },
  {
   "cell_type": "code",
   "execution_count": 20,
   "id": "4496094d",
   "metadata": {},
   "outputs": [
    {
     "data": {
      "text/plain": [
       "((2, 3, 4, 5), 4)"
      ]
     },
     "execution_count": 20,
     "metadata": {},
     "output_type": "execute_result"
    }
   ],
   "source": [
    "r_a6.shape,r_a6.ndim"
   ]
  },
  {
   "cell_type": "code",
   "execution_count": 21,
   "id": "5a92509f",
   "metadata": {},
   "outputs": [
    {
     "data": {
      "text/plain": [
       "array([[[[8, 2, 6],\n",
       "         [8, 3, 5]],\n",
       "\n",
       "        [[8, 4, 5],\n",
       "         [0, 8, 0]]]])"
      ]
     },
     "execution_count": 21,
     "metadata": {},
     "output_type": "execute_result"
    }
   ],
   "source": [
    "r_a6[:1,:2,:2,:3]"
   ]
  },
  {
   "cell_type": "code",
   "execution_count": 22,
   "id": "9554b355",
   "metadata": {},
   "outputs": [
    {
     "data": {
      "text/plain": [
       "array([[[[8, 2, 6, 8, 1],\n",
       "         [8, 3, 5, 3, 6],\n",
       "         [7, 9, 0, 8, 1],\n",
       "         [8, 1, 6, 6, 2]],\n",
       "\n",
       "        [[8, 4, 5, 3, 4],\n",
       "         [0, 8, 0, 4, 5],\n",
       "         [4, 8, 3, 8, 4],\n",
       "         [8, 0, 1, 2, 3]],\n",
       "\n",
       "        [[7, 7, 2, 0, 4],\n",
       "         [6, 2, 2, 2, 3],\n",
       "         [9, 2, 1, 3, 0],\n",
       "         [1, 0, 2, 0, 4]]],\n",
       "\n",
       "\n",
       "       [[[8, 0, 7, 0, 2],\n",
       "         [4, 0, 1, 6, 7],\n",
       "         [6, 1, 7, 6, 2],\n",
       "         [5, 0, 0, 9, 5]],\n",
       "\n",
       "        [[3, 7, 0, 6, 9],\n",
       "         [2, 6, 5, 0, 9],\n",
       "         [0, 5, 2, 5, 3],\n",
       "         [6, 3, 1, 6, 1]],\n",
       "\n",
       "        [[8, 8, 6, 8, 1],\n",
       "         [7, 0, 1, 3, 6],\n",
       "         [2, 0, 7, 4, 2],\n",
       "         [8, 8, 1, 2, 4]]]])"
      ]
     },
     "execution_count": 22,
     "metadata": {},
     "output_type": "execute_result"
    }
   ],
   "source": [
    "r_a6[:,:,:,:]"
   ]
  },
  {
   "cell_type": "markdown",
   "id": "71fa9710",
   "metadata": {},
   "source": [
    "# Manipulating & Comparing Arrays\n"
   ]
  },
  {
   "cell_type": "markdown",
   "id": "fa756261",
   "metadata": {},
   "source": [
    "### Arithmetic"
   ]
  },
  {
   "cell_type": "code",
   "execution_count": 23,
   "id": "bf0e05ca",
   "metadata": {},
   "outputs": [
    {
     "data": {
      "text/plain": [
       "array([1, 2, 3])"
      ]
     },
     "execution_count": 23,
     "metadata": {},
     "output_type": "execute_result"
    }
   ],
   "source": [
    "a1"
   ]
  },
  {
   "cell_type": "code",
   "execution_count": 24,
   "id": "a094eeb2",
   "metadata": {},
   "outputs": [
    {
     "data": {
      "text/plain": [
       "array([[1., 1., 1.],\n",
       "       [1., 1., 1.]])"
      ]
     },
     "execution_count": 24,
     "metadata": {},
     "output_type": "execute_result"
    }
   ],
   "source": [
    "ones"
   ]
  },
  {
   "cell_type": "code",
   "execution_count": 25,
   "id": "81ded706",
   "metadata": {},
   "outputs": [
    {
     "data": {
      "text/plain": [
       "array([[2., 3., 4.],\n",
       "       [2., 3., 4.]])"
      ]
     },
     "execution_count": 25,
     "metadata": {},
     "output_type": "execute_result"
    }
   ],
   "source": [
    "np.add(a1,ones)"
   ]
  },
  {
   "cell_type": "code",
   "execution_count": 26,
   "id": "d5c1bc68",
   "metadata": {},
   "outputs": [
    {
     "data": {
      "text/plain": [
       "array([[0., 1., 2.],\n",
       "       [0., 1., 2.]])"
      ]
     },
     "execution_count": 26,
     "metadata": {},
     "output_type": "execute_result"
    }
   ],
   "source": [
    "a1-ones"
   ]
  },
  {
   "cell_type": "code",
   "execution_count": 27,
   "id": "4abeb039",
   "metadata": {},
   "outputs": [
    {
     "data": {
      "text/plain": [
       "array([1, 4, 9], dtype=int32)"
      ]
     },
     "execution_count": 27,
     "metadata": {},
     "output_type": "execute_result"
    }
   ],
   "source": [
    "np.square(a1)"
   ]
  },
  {
   "cell_type": "code",
   "execution_count": 28,
   "id": "5e54bab6",
   "metadata": {},
   "outputs": [
    {
     "data": {
      "text/plain": [
       "array([ 1,  4, 27], dtype=int32)"
      ]
     },
     "execution_count": 28,
     "metadata": {},
     "output_type": "execute_result"
    }
   ],
   "source": [
    "a1**a1"
   ]
  },
  {
   "cell_type": "code",
   "execution_count": 29,
   "id": "6bd08a66",
   "metadata": {},
   "outputs": [
    {
     "data": {
      "text/plain": [
       "array([0.        , 0.69314718, 1.09861229])"
      ]
     },
     "execution_count": 29,
     "metadata": {},
     "output_type": "execute_result"
    }
   ],
   "source": [
    "np.log(a1)"
   ]
  },
  {
   "cell_type": "code",
   "execution_count": 30,
   "id": "8782e3b3",
   "metadata": {},
   "outputs": [
    {
     "data": {
      "text/plain": [
       "array([ 2.71828183,  7.3890561 , 20.08553692])"
      ]
     },
     "execution_count": 30,
     "metadata": {},
     "output_type": "execute_result"
    }
   ],
   "source": [
    "np.exp(a1)"
   ]
  },
  {
   "cell_type": "markdown",
   "id": "f1bf9c87",
   "metadata": {},
   "source": [
    "### Aggregation\n",
    "Aggregation = performing the same operationon the number of things"
   ]
  },
  {
   "cell_type": "code",
   "execution_count": 31,
   "id": "b3735df9",
   "metadata": {},
   "outputs": [],
   "source": [
    "massive_array=np.random.random(1000)\n"
   ]
  },
  {
   "cell_type": "code",
   "execution_count": 32,
   "id": "1d4ca125",
   "metadata": {},
   "outputs": [
    {
     "data": {
      "text/plain": [
       "array([0.9393708 , 0.15902499, 0.98054312, 0.90029957, 0.06894422,\n",
       "       0.73144824, 0.45531177, 0.7603843 , 0.72620566, 0.80861015])"
      ]
     },
     "execution_count": 32,
     "metadata": {},
     "output_type": "execute_result"
    }
   ],
   "source": [
    "massive_array[:10]"
   ]
  },
  {
   "cell_type": "code",
   "execution_count": 33,
   "id": "87dd157d",
   "metadata": {},
   "outputs": [
    {
     "name": "stdout",
     "output_type": "stream",
     "text": [
      "79.4 µs ± 463 ns per loop (mean ± std. dev. of 7 runs, 10000 loops each)\n",
      "4.2 µs ± 18 ns per loop (mean ± std. dev. of 7 runs, 100000 loops each)\n"
     ]
    }
   ],
   "source": [
    "%timeit sum(massive_array) # python's sum()\n",
    "%timeit np.sum(massive_array) # numpy's sum()"
   ]
  },
  {
   "cell_type": "code",
   "execution_count": 34,
   "id": "a2c0c1de",
   "metadata": {},
   "outputs": [
    {
     "data": {
      "text/plain": [
       "array([[2, 3, 4],\n",
       "       [5, 6, 7]])"
      ]
     },
     "execution_count": 34,
     "metadata": {},
     "output_type": "execute_result"
    }
   ],
   "source": [
    "a2"
   ]
  },
  {
   "cell_type": "code",
   "execution_count": 35,
   "id": "6dc4e27c",
   "metadata": {},
   "outputs": [
    {
     "data": {
      "text/plain": [
       "4.5"
      ]
     },
     "execution_count": 35,
     "metadata": {},
     "output_type": "execute_result"
    }
   ],
   "source": [
    "np.mean(a2)"
   ]
  },
  {
   "cell_type": "code",
   "execution_count": 36,
   "id": "3f028bfb",
   "metadata": {},
   "outputs": [
    {
     "data": {
      "text/plain": [
       "(7, 2)"
      ]
     },
     "execution_count": 36,
     "metadata": {},
     "output_type": "execute_result"
    }
   ],
   "source": [
    "np.max(a2),np.min(a2)"
   ]
  },
  {
   "cell_type": "markdown",
   "id": "a8e8123b",
   "metadata": {},
   "source": [
    "Standard deviation = a measure of how spread out a group of numbers is from the main"
   ]
  },
  {
   "cell_type": "code",
   "execution_count": 37,
   "id": "f5afe3c1",
   "metadata": {},
   "outputs": [
    {
     "data": {
      "text/plain": [
       "1.707825127659933"
      ]
     },
     "execution_count": 37,
     "metadata": {},
     "output_type": "execute_result"
    }
   ],
   "source": [
    "np.std(a2) #standard deviation"
   ]
  },
  {
   "cell_type": "markdown",
   "id": "0efd0751",
   "metadata": {},
   "source": [
    "variance= measure of the average degree to which each number is different to the main\n",
    "Higher variance= wider range of numbers  \n",
    "Lower variance= lower range of numbers\n",
    "\n",
    "Standard deviation= squareroot of variance"
   ]
  },
  {
   "cell_type": "code",
   "execution_count": 38,
   "id": "51a03204",
   "metadata": {},
   "outputs": [
    {
     "data": {
      "text/plain": [
       "2.9166666666666665"
      ]
     },
     "execution_count": 38,
     "metadata": {},
     "output_type": "execute_result"
    }
   ],
   "source": [
    "np.var(a2) #variance"
   ]
  },
  {
   "cell_type": "code",
   "execution_count": 48,
   "id": "f19b98e5",
   "metadata": {},
   "outputs": [
    {
     "data": {
      "text/plain": [
       "(4296133.472222221, 8.0)"
      ]
     },
     "execution_count": 48,
     "metadata": {},
     "output_type": "execute_result"
    }
   ],
   "source": [
    "# demo of std and var \n",
    "highVarArray=np.array([1,100,200,300,4000,5000])\n",
    "lowVarArray=np.array([2,4,6,8,10])\n",
    "np.var(highVarArray),np.var(lowVarArray)"
   ]
  },
  {
   "cell_type": "code",
   "execution_count": 49,
   "id": "cd58b07e",
   "metadata": {},
   "outputs": [
    {
     "data": {
      "text/plain": [
       "(2072.711623024829, 2.8284271247461903)"
      ]
     },
     "execution_count": 49,
     "metadata": {},
     "output_type": "execute_result"
    }
   ],
   "source": [
    "np.std(highVarArray),np.std(lowVarArray)"
   ]
  },
  {
   "cell_type": "code",
   "execution_count": 50,
   "id": "7303d480",
   "metadata": {},
   "outputs": [
    {
     "data": {
      "text/plain": [
       "(1600.1666666666667, 6.0)"
      ]
     },
     "execution_count": 50,
     "metadata": {},
     "output_type": "execute_result"
    }
   ],
   "source": [
    "np.mean(highVarArray),np.mean(lowVarArray)"
   ]
  },
  {
   "cell_type": "markdown",
   "id": "8e09236e",
   "metadata": {},
   "source": [
    "# matplotlib\n"
   ]
  },
  {
   "cell_type": "code",
   "execution_count": 51,
   "id": "0f9c7974",
   "metadata": {},
   "outputs": [
    {
     "data": {
      "image/png": "[encoded data removed]",
      "text/plain": [
       "<Figure size 432x288 with 1 Axes>"
      ]
     },
     "metadata": {
      "needs_background": "light"
     },
     "output_type": "display_data"
    }
   ],
   "source": [
    "%matplotlib inline\n",
    "import matplotlib.pyplot as plt\n",
    "plt.hist(highVarArray)\n",
    "plt.show()"
   ]
  },
  {
   "cell_type": "code",
   "execution_count": 52,
   "id": "6af7ecf8",
   "metadata": {},
   "outputs": [
    {
     "data": {
      "image/png": "[encoded data removed]",
      "text/plain": [
       "<Figure size 432x288 with 1 Axes>"
      ]
     },
     "metadata": {
      "needs_background": "light"
     },
     "output_type": "display_data"
    }
   ],
   "source": [
    "plt.hist(lowVarArray)\n",
    "plt.show()"
   ]
  },
  {
   "cell_type": "markdown",
   "id": "068ad45f",
   "metadata": {},
   "source": [
    "### rashaping and transposing\n",
    "for matrix multiplication\n",
    "    1. dimention are equal. \n",
    "    \n",
    "    2. or one of them is 1 "
   ]
  },
  {
   "cell_type": "code",
   "execution_count": 56,
   "id": "1d6998ce",
   "metadata": {},
   "outputs": [
    {
     "data": {
      "text/plain": [
       "array([[2, 3, 4],\n",
       "       [5, 6, 7]])"
      ]
     },
     "execution_count": 56,
     "metadata": {},
     "output_type": "execute_result"
    }
   ],
   "source": [
    "a2"
   ]
  },
  {
   "cell_type": "code",
   "execution_count": 57,
   "id": "034c3297",
   "metadata": {},
   "outputs": [
    {
     "data": {
      "text/plain": [
       "array([[[ 1,  2,  3],\n",
       "        [ 4,  5,  6],\n",
       "        [ 7,  8,  9]],\n",
       "\n",
       "       [[10, 11, 12],\n",
       "        [13, 14, 15],\n",
       "        [16, 17, 18]]])"
      ]
     },
     "execution_count": 57,
     "metadata": {},
     "output_type": "execute_result"
    }
   ],
   "source": [
    "a3=np.array([\n",
    "    [[1,2,3],\n",
    "    [4,5,6,],\n",
    "    [7,8,9]],\n",
    "    \n",
    "    [[10,11,12],\n",
    "     [13,14,15],\n",
    "     [16,17,18]]\n",
    "    \n",
    "])\n",
    "a3"
   ]
  },
  {
   "cell_type": "code",
   "execution_count": 59,
   "id": "b88509a1",
   "metadata": {},
   "outputs": [
    {
     "data": {
      "text/plain": [
       "((2, 3), (2, 3, 3))"
      ]
     },
     "execution_count": 59,
     "metadata": {},
     "output_type": "execute_result"
    }
   ],
   "source": [
    "a2.shape,a3.shape"
   ]
  },
  {
   "cell_type": "code",
   "execution_count": 65,
   "id": "4f2ef00e",
   "metadata": {},
   "outputs": [],
   "source": [
    "a2_reshape=a2.reshape(2,3,1)"
   ]
  },
  {
   "cell_type": "code",
   "execution_count": 66,
   "id": "b02d9a15",
   "metadata": {},
   "outputs": [
    {
     "data": {
      "text/plain": [
       "(2, 3, 1)"
      ]
     },
     "execution_count": 66,
     "metadata": {},
     "output_type": "execute_result"
    }
   ],
   "source": [
    "a2_reshape.shape"
   ]
  },
  {
   "cell_type": "code",
   "execution_count": 67,
   "id": "08fe3682",
   "metadata": {},
   "outputs": [
    {
     "data": {
      "text/plain": [
       "array([[[  2,   4,   6],\n",
       "        [ 12,  15,  18],\n",
       "        [ 28,  32,  36]],\n",
       "\n",
       "       [[ 50,  55,  60],\n",
       "        [ 78,  84,  90],\n",
       "        [112, 119, 126]]])"
      ]
     },
     "execution_count": 67,
     "metadata": {},
     "output_type": "execute_result"
    }
   ],
   "source": [
    "a2_reshape*a3"
   ]
  },
  {
   "cell_type": "code",
   "execution_count": 68,
   "id": "d1cacc62",
   "metadata": {},
   "outputs": [
    {
     "data": {
      "text/plain": [
       "array([[2, 5],\n",
       "       [3, 6],\n",
       "       [4, 7]])"
      ]
     },
     "execution_count": 68,
     "metadata": {},
     "output_type": "execute_result"
    }
   ],
   "source": [
    "# Tramspose\n",
    "a2.T"
   ]
  },
  {
   "cell_type": "code",
   "execution_count": 69,
   "id": "ca7b01f1",
   "metadata": {},
   "outputs": [
    {
     "data": {
      "text/plain": [
       "array([[2, 3, 4],\n",
       "       [5, 6, 7]])"
      ]
     },
     "execution_count": 69,
     "metadata": {},
     "output_type": "execute_result"
    }
   ],
   "source": [
    "a2"
   ]
  },
  {
   "cell_type": "markdown",
   "id": "719bcae3",
   "metadata": {},
   "source": [
    "# Dot Product\n"
   ]
  },
  {
   "cell_type": "code",
   "execution_count": 73,
   "id": "20e7774d",
   "metadata": {},
   "outputs": [],
   "source": [
    "np.random.seed(0)\n",
    "\n",
    "mat1 = np.random.randint(10,size=(5,3))\n",
    "mat2 = np.random.randint(10,size=(5,3))"
   ]
  },
  {
   "cell_type": "code",
   "execution_count": 74,
   "id": "35f14746",
   "metadata": {},
   "outputs": [
    {
     "data": {
      "text/plain": [
       "array([[5, 0, 3],\n",
       "       [3, 7, 9],\n",
       "       [3, 5, 2],\n",
       "       [4, 7, 6],\n",
       "       [8, 8, 1]])"
      ]
     },
     "execution_count": 74,
     "metadata": {},
     "output_type": "execute_result"
    }
   ],
   "source": [
    "mat1"
   ]
  },
  {
   "cell_type": "code",
   "execution_count": 75,
   "id": "41f4fe43",
   "metadata": {},
   "outputs": [
    {
     "data": {
      "text/plain": [
       "array([[6, 7, 7],\n",
       "       [8, 1, 5],\n",
       "       [9, 8, 9],\n",
       "       [4, 3, 0],\n",
       "       [3, 5, 0]])"
      ]
     },
     "execution_count": 75,
     "metadata": {},
     "output_type": "execute_result"
    }
   ],
   "source": [
    "mat2"
   ]
  },
  {
   "cell_type": "code",
   "execution_count": 76,
   "id": "ac19b6d5",
   "metadata": {},
   "outputs": [
    {
     "data": {
      "text/plain": [
       "array([[30,  0, 21],\n",
       "       [24,  7, 45],\n",
       "       [27, 40, 18],\n",
       "       [16, 21,  0],\n",
       "       [24, 40,  0]])"
      ]
     },
     "execution_count": 76,
     "metadata": {},
     "output_type": "execute_result"
    }
   ],
   "source": [
    "# element-wise multiplication (Hardamard product)\n",
    "mat1*mat2"
   ]
  },
  {
   "cell_type": "code",
   "execution_count": 98,
   "id": "9db8d494",
   "metadata": {},
   "outputs": [
    {
     "name": "stdout",
     "output_type": "stream",
     "text": [
      "[[6 7 7]\n",
      " [8 1 5]\n",
      " [9 8 9]\n",
      " [4 3 0]\n",
      " [3 5 0]] \n",
      "\n",
      "[[6 8 9 4 3]\n",
      " [7 1 8 3 5]\n",
      " [7 5 9 0 0]] \n",
      "\n"
     ]
    }
   ],
   "source": [
    "# Dot Product = it is diternination \n",
    "print(mat2,\"\\n\")\n",
    "mat2=mat2.T # Tspospose\n",
    "print(mat2,\"\\n\")"
   ]
  },
  {
   "cell_type": "code",
   "execution_count": 99,
   "id": "a273d29a",
   "metadata": {},
   "outputs": [
    {
     "name": "stdout",
     "output_type": "stream",
     "text": [
      "[[ 51  55  72  20  15]\n",
      " [130  76 164  33  44]\n",
      " [ 67  39  85  27  34]\n",
      " [115  69 146  37  47]\n",
      " [111  77 145  56  64]]\n"
     ]
    }
   ],
   "source": [
    "print(np.dot(mat1,mat2))"
   ]
  },
  {
   "cell_type": "markdown",
   "id": "bca17d1c",
   "metadata": {},
   "source": [
    "# Dot product example (nut butter sales)"
   ]
  },
  {
   "cell_type": "code",
   "execution_count": 100,
   "id": "fbe4519d",
   "metadata": {},
   "outputs": [
    {
     "data": {
      "text/plain": [
       "array([[12, 15,  0],\n",
       "       [ 3,  3,  7],\n",
       "       [ 9, 19, 18],\n",
       "       [ 4,  6, 12],\n",
       "       [ 1,  6,  7]])"
      ]
     },
     "execution_count": 100,
     "metadata": {},
     "output_type": "execute_result"
    }
   ],
   "source": [
    "np.random.seed(0)\n",
    "# Number of jars sold\n",
    "sales_amount=np.random.randint(20,size=(5,3))\n",
    "sales_amount"
   ]
  },
  {
   "cell_type": "code",
   "execution_count": 104,
   "id": "a54be116",
   "metadata": {},
   "outputs": [
    {
     "data": {
      "text/html": [
       "<div>\n",
       "<style scoped>\n",
       "    .dataframe tbody tr th:only-of-type {\n",
       "        vertical-align: middle;\n",
       "    }\n",
       "\n",
       "    .dataframe tbody tr th {\n",
       "        vertical-align: top;\n",
       "    }\n",
       "\n",
       "    .dataframe thead th {\n",
       "        text-align: right;\n",
       "    }\n",
       "</style>\n",
       "<table border=\"1\" class=\"dataframe\">\n",
       "  <thead>\n",
       "    <tr style=\"text-align: right;\">\n",
       "      <th></th>\n",
       "      <th>Almond Butter</th>\n",
       "      <th>Peanut Butter</th>\n",
       "      <th>Cashew Butter</th>\n",
       "    </tr>\n",
       "  </thead>\n",
       "  <tbody>\n",
       "    <tr>\n",
       "      <th>Mon</th>\n",
       "      <td>12</td>\n",
       "      <td>15</td>\n",
       "      <td>0</td>\n",
       "    </tr>\n",
       "    <tr>\n",
       "      <th>Tues</th>\n",
       "      <td>3</td>\n",
       "      <td>3</td>\n",
       "      <td>7</td>\n",
       "    </tr>\n",
       "    <tr>\n",
       "      <th>Wed</th>\n",
       "      <td>9</td>\n",
       "      <td>19</td>\n",
       "      <td>18</td>\n",
       "    </tr>\n",
       "    <tr>\n",
       "      <th>Thurs</th>\n",
       "      <td>4</td>\n",
       "      <td>6</td>\n",
       "      <td>12</td>\n",
       "    </tr>\n",
       "    <tr>\n",
       "      <th>Fri</th>\n",
       "      <td>1</td>\n",
       "      <td>6</td>\n",
       "      <td>7</td>\n",
       "    </tr>\n",
       "  </tbody>\n",
       "</table>\n",
       "</div>"
      ],
      "text/plain": [
       "       Almond Butter  Peanut Butter  Cashew Butter\n",
       "Mon               12             15              0\n",
       "Tues               3              3              7\n",
       "Wed                9             19             18\n",
       "Thurs              4              6             12\n",
       "Fri                1              6              7"
      ]
     },
     "execution_count": 104,
     "metadata": {},
     "output_type": "execute_result"
    }
   ],
   "source": [
    "# weekly_sales data frame\n",
    "import pandas as pd\n",
    "weekly_sales=pd.DataFrame(sales_amount,index=[\"Mon\",\"Tues\",\"Wed\",\"Thurs\",\"Fri\"],\n",
    "                         columns=[\"Almond Butter\",\"Peanut Butter\",\"Cashew Butter\"])\n",
    "weekly_sales"
   ]
  },
  {
   "cell_type": "code",
   "execution_count": 105,
   "id": "7993ddc3",
   "metadata": {},
   "outputs": [
    {
     "data": {
      "text/plain": [
       "array([10,  8, 12])"
      ]
     },
     "execution_count": 105,
     "metadata": {},
     "output_type": "execute_result"
    }
   ],
   "source": [
    "# create prices\n",
    "prices = np.array([10,8,12])\n",
    "prices"
   ]
  },
  {
   "cell_type": "code",
   "execution_count": 110,
   "id": "d4847ee6",
   "metadata": {},
   "outputs": [
    {
     "data": {
      "text/html": [
       "<div>\n",
       "<style scoped>\n",
       "    .dataframe tbody tr th:only-of-type {\n",
       "        vertical-align: middle;\n",
       "    }\n",
       "\n",
       "    .dataframe tbody tr th {\n",
       "        vertical-align: top;\n",
       "    }\n",
       "\n",
       "    .dataframe thead th {\n",
       "        text-align: right;\n",
       "    }\n",
       "</style>\n",
       "<table border=\"1\" class=\"dataframe\">\n",
       "  <thead>\n",
       "    <tr style=\"text-align: right;\">\n",
       "      <th></th>\n",
       "      <th>Almond Butter</th>\n",
       "      <th>Peanut Butter</th>\n",
       "      <th>Cashew Butter</th>\n",
       "    </tr>\n",
       "  </thead>\n",
       "  <tbody>\n",
       "    <tr>\n",
       "      <th>price</th>\n",
       "      <td>10</td>\n",
       "      <td>8</td>\n",
       "      <td>12</td>\n",
       "    </tr>\n",
       "  </tbody>\n",
       "</table>\n",
       "</div>"
      ],
      "text/plain": [
       "       Almond Butter  Peanut Butter  Cashew Butter\n",
       "price             10              8             12"
      ]
     },
     "execution_count": 110,
     "metadata": {},
     "output_type": "execute_result"
    }
   ],
   "source": [
    "# create butter prices data Frame\n",
    "butter_prices=pd.DataFrame(prices.reshape(1,3),index=[\"price\"],columns=[\"Almond Butter\",\"Peanut Butter\",\"Cashew Butter\"])\n",
    "butter_prices"
   ]
  },
  {
   "cell_type": "code",
   "execution_count": 113,
   "id": "31622a56",
   "metadata": {},
   "outputs": [
    {
     "data": {
      "text/plain": [
       "array([240, 138, 458, 232, 142])"
      ]
     },
     "execution_count": 113,
     "metadata": {},
     "output_type": "execute_result"
    }
   ],
   "source": [
    "total_sales=prices.dot(sales_amount.T)\n",
    "total_sales"
   ]
  },
  {
   "cell_type": "code",
   "execution_count": 114,
   "id": "b2237d70",
   "metadata": {},
   "outputs": [
    {
     "data": {
      "text/plain": [
       "array([240, 138, 458, 232, 142])"
      ]
     },
     "execution_count": 114,
     "metadata": {},
     "output_type": "execute_result"
    }
   ],
   "source": [
    "np.dot(prices,sales_amount.T)"
   ]
  },
  {
   "cell_type": "code",
   "execution_count": 117,
   "id": "9cb22823",
   "metadata": {},
   "outputs": [
    {
     "data": {
      "text/plain": [
       "array([[240, 138, 458, 232, 142]])"
      ]
     },
     "execution_count": 117,
     "metadata": {},
     "output_type": "execute_result"
    }
   ],
   "source": [
    "# create daily sales\n",
    "daily_sales=np.dot(butter_prices,weekly_sales.T)\n",
    "daily_sales"
   ]
  },
  {
   "cell_type": "code",
   "execution_count": 118,
   "id": "94400a6b",
   "metadata": {},
   "outputs": [],
   "source": [
    "weekly_sales[\"Total ($)\"]=daily_sales.T"
   ]
  },
  {
   "cell_type": "code",
   "execution_count": 119,
   "id": "d68d639d",
   "metadata": {},
   "outputs": [
    {
     "data": {
      "text/html": [
       "<div>\n",
       "<style scoped>\n",
       "    .dataframe tbody tr th:only-of-type {\n",
       "        vertical-align: middle;\n",
       "    }\n",
       "\n",
       "    .dataframe tbody tr th {\n",
       "        vertical-align: top;\n",
       "    }\n",
       "\n",
       "    .dataframe thead th {\n",
       "        text-align: right;\n",
       "    }\n",
       "</style>\n",
       "<table border=\"1\" class=\"dataframe\">\n",
       "  <thead>\n",
       "    <tr style=\"text-align: right;\">\n",
       "      <th></th>\n",
       "      <th>Almond Butter</th>\n",
       "      <th>Peanut Butter</th>\n",
       "      <th>Cashew Butter</th>\n",
       "      <th>Total ($)</th>\n",
       "    </tr>\n",
       "  </thead>\n",
       "  <tbody>\n",
       "    <tr>\n",
       "      <th>Mon</th>\n",
       "      <td>12</td>\n",
       "      <td>15</td>\n",
       "      <td>0</td>\n",
       "      <td>240</td>\n",
       "    </tr>\n",
       "    <tr>\n",
       "      <th>Tues</th>\n",
       "      <td>3</td>\n",
       "      <td>3</td>\n",
       "      <td>7</td>\n",
       "      <td>138</td>\n",
       "    </tr>\n",
       "    <tr>\n",
       "      <th>Wed</th>\n",
       "      <td>9</td>\n",
       "      <td>19</td>\n",
       "      <td>18</td>\n",
       "      <td>458</td>\n",
       "    </tr>\n",
       "    <tr>\n",
       "      <th>Thurs</th>\n",
       "      <td>4</td>\n",
       "      <td>6</td>\n",
       "      <td>12</td>\n",
       "      <td>232</td>\n",
       "    </tr>\n",
       "    <tr>\n",
       "      <th>Fri</th>\n",
       "      <td>1</td>\n",
       "      <td>6</td>\n",
       "      <td>7</td>\n",
       "      <td>142</td>\n",
       "    </tr>\n",
       "  </tbody>\n",
       "</table>\n",
       "</div>"
      ],
      "text/plain": [
       "       Almond Butter  Peanut Butter  Cashew Butter  Total ($)\n",
       "Mon               12             15              0        240\n",
       "Tues               3              3              7        138\n",
       "Wed                9             19             18        458\n",
       "Thurs              4              6             12        232\n",
       "Fri                1              6              7        142"
      ]
     },
     "execution_count": 119,
     "metadata": {},
     "output_type": "execute_result"
    }
   ],
   "source": [
    "weekly_sales"
   ]
  },
  {
   "cell_type": "markdown",
   "id": "7c6a6acf",
   "metadata": {},
   "source": [
    "### Comparison Operator"
   ]
  },
  {
   "cell_type": "code",
   "execution_count": 120,
   "id": "22707e26",
   "metadata": {},
   "outputs": [
    {
     "data": {
      "text/plain": [
       "array([1, 2, 3])"
      ]
     },
     "execution_count": 120,
     "metadata": {},
     "output_type": "execute_result"
    }
   ],
   "source": [
    "a1"
   ]
  },
  {
   "cell_type": "code",
   "execution_count": 121,
   "id": "9b7443b1",
   "metadata": {},
   "outputs": [
    {
     "data": {
      "text/plain": [
       "array([[2, 3, 4],\n",
       "       [5, 6, 7]])"
      ]
     },
     "execution_count": 121,
     "metadata": {},
     "output_type": "execute_result"
    }
   ],
   "source": [
    "a2"
   ]
  },
  {
   "cell_type": "code",
   "execution_count": 122,
   "id": "8919d3e0",
   "metadata": {},
   "outputs": [
    {
     "data": {
      "text/plain": [
       "array([[False, False, False],\n",
       "       [False, False, False]])"
      ]
     },
     "execution_count": 122,
     "metadata": {},
     "output_type": "execute_result"
    }
   ],
   "source": [
    "a1>a2"
   ]
  },
  {
   "cell_type": "markdown",
   "id": "354674a2",
   "metadata": {},
   "source": [
    "### Sorting Array"
   ]
  },
  {
   "cell_type": "code",
   "execution_count": 124,
   "id": "918efea3",
   "metadata": {},
   "outputs": [],
   "source": [
    "random_array=np.random.randint(10,size=(3,5))"
   ]
  },
  {
   "cell_type": "code",
   "execution_count": 125,
   "id": "31a6d7da",
   "metadata": {},
   "outputs": [
    {
     "data": {
      "text/plain": [
       "array([[7, 8, 1, 5, 9],\n",
       "       [8, 9, 4, 3, 0],\n",
       "       [3, 5, 0, 2, 3]])"
      ]
     },
     "execution_count": 125,
     "metadata": {},
     "output_type": "execute_result"
    }
   ],
   "source": [
    "random_array"
   ]
  },
  {
   "cell_type": "code",
   "execution_count": 130,
   "id": "4e119f77",
   "metadata": {},
   "outputs": [
    {
     "data": {
      "text/plain": [
       "array([[1, 5, 7, 8, 9],\n",
       "       [0, 3, 4, 8, 9],\n",
       "       [0, 2, 3, 3, 5]])"
      ]
     },
     "execution_count": 130,
     "metadata": {},
     "output_type": "execute_result"
    }
   ],
   "source": [
    "np.sort(random_array)"
   ]
  },
  {
   "cell_type": "markdown",
   "id": "b82da9fd",
   "metadata": {},
   "source": [
    "#### index of sorting array"
   ]
  },
  {
   "cell_type": "code",
   "execution_count": 129,
   "id": "291c2bd1",
   "metadata": {},
   "outputs": [
    {
     "data": {
      "text/plain": [
       "array([[2, 3, 0, 1, 4],\n",
       "       [4, 3, 2, 0, 1],\n",
       "       [2, 3, 0, 4, 1]], dtype=int64)"
      ]
     },
     "execution_count": 129,
     "metadata": {},
     "output_type": "execute_result"
    }
   ],
   "source": [
    "np.argsort(random_array)"
   ]
  },
  {
   "cell_type": "code",
   "execution_count": 131,
   "id": "46461fe3",
   "metadata": {},
   "outputs": [
    {
     "data": {
      "text/plain": [
       "0"
      ]
     },
     "execution_count": 131,
     "metadata": {},
     "output_type": "execute_result"
    }
   ],
   "source": [
    "np.argmin(a1)"
   ]
  },
  {
   "cell_type": "code",
   "execution_count": 132,
   "id": "2511990c",
   "metadata": {},
   "outputs": [
    {
     "data": {
      "text/plain": [
       "array([[7, 8, 1, 5, 9],\n",
       "       [8, 9, 4, 3, 0],\n",
       "       [3, 5, 0, 2, 3]])"
      ]
     },
     "execution_count": 132,
     "metadata": {},
     "output_type": "execute_result"
    }
   ],
   "source": [
    "random_array"
   ]
  },
  {
   "cell_type": "code",
   "execution_count": 133,
   "id": "fa57bae9",
   "metadata": {},
   "outputs": [
    {
     "data": {
      "text/plain": [
       "4"
      ]
     },
     "execution_count": 133,
     "metadata": {},
     "output_type": "execute_result"
    }
   ],
   "source": [
    "np.argmax(random_array)"
   ]
  },
  {
   "cell_type": "code",
   "execution_count": 135,
   "id": "41f4ce5a",
   "metadata": {},
   "outputs": [
    {
     "data": {
      "text/plain": [
       "array([4, 1, 1], dtype=int64)"
      ]
     },
     "execution_count": 135,
     "metadata": {},
     "output_type": "execute_result"
    }
   ],
   "source": [
    "np.argmax(random_array, axis=1) #row wise"
   ]
  },
  {
   "cell_type": "code",
   "execution_count": 136,
   "id": "9b5141e0",
   "metadata": {},
   "outputs": [
    {
     "data": {
      "text/plain": [
       "array([1, 1, 1, 0, 0], dtype=int64)"
      ]
     },
     "execution_count": 136,
     "metadata": {},
     "output_type": "execute_result"
    }
   ],
   "source": [
    "np.argmax(random_array, axis=0) #column"
   ]
  },
  {
   "cell_type": "markdown",
   "id": "4bca4050",
   "metadata": {},
   "source": [
    "## Practical Example - NumPy in Action!!!"
   ]
  },
  {
   "cell_type": "code",
   "execution_count": 137,
   "id": "936c6cce",
   "metadata": {},
   "outputs": [
    {
     "name": "stdout",
     "output_type": "stream",
     "text": [
      " Volume in drive F is New Volume\n",
      " Volume Serial Number is 0A32-B92F\n",
      "\n",
      " Directory of F:\\DATA SCIENCE\\FILE\\miniconda_p1\n",
      "\n",
      "06/22/2021  01:56 AM    <DIR>          .\n",
      "06/22/2021  01:56 AM    <DIR>          ..\n",
      "06/20/2021  10:00 PM    <DIR>          .ipynb_checkpoints\n",
      "06/17/2021  12:53 AM           332,025 6-step-ml.png\n",
      "06/16/2021  01:34 AM    <DIR>          env\n",
      "06/22/2021  12:45 AM            17,178 example-notebook.ipynb\n",
      "06/16/2021  02:08 AM             1,676 firstnotebook.ipynb\n",
      "06/17/2021  12:53 AM            11,328 heart-disease.csv\n",
      "06/22/2021  01:56 AM            52,014 Intro_numpy.ipynb\n",
      "               5 File(s)        414,221 bytes\n",
      "               4 Dir(s)  183,026,814,976 bytes free\n"
     ]
    }
   ],
   "source": [
    "ls"
   ]
  },
  {
   "cell_type": "markdown",
   "id": "b2b56883",
   "metadata": {},
   "source": [
    "<img src=\"images/panda.png\" />"
   ]
  },
  {
   "cell_type": "markdown",
   "id": "8e03be29",
   "metadata": {},
   "source": [
    "### Turn an array into a Numpy Array"
   ]
  },
  {
   "cell_type": "code",
   "execution_count": 141,
   "id": "0131694e",
   "metadata": {},
   "outputs": [
    {
     "data": {
      "text/plain": [
       "array([[[0.05490196, 0.10588235, 0.06666667],\n",
       "        [0.05490196, 0.10588235, 0.06666667],\n",
       "        [0.05490196, 0.10588235, 0.06666667],\n",
       "        ...,\n",
       "        [0.16470589, 0.12941177, 0.09411765],\n",
       "        [0.16470589, 0.12941177, 0.09411765],\n",
       "        [0.16470589, 0.12941177, 0.09411765]],\n",
       "\n",
       "       [[0.05490196, 0.10588235, 0.06666667],\n",
       "        [0.05490196, 0.10588235, 0.06666667],\n",
       "        [0.05490196, 0.10588235, 0.06666667],\n",
       "        ...,\n",
       "        [0.16470589, 0.12941177, 0.09411765],\n",
       "        [0.16470589, 0.12941177, 0.09411765],\n",
       "        [0.16470589, 0.12941177, 0.09411765]],\n",
       "\n",
       "       [[0.05490196, 0.10588235, 0.06666667],\n",
       "        [0.05490196, 0.10588235, 0.06666667],\n",
       "        [0.05490196, 0.10588235, 0.06666667],\n",
       "        ...,\n",
       "        [0.16470589, 0.12941177, 0.09411765],\n",
       "        [0.16470589, 0.12941177, 0.09411765],\n",
       "        [0.16470589, 0.12941177, 0.09411765]],\n",
       "\n",
       "       ...,\n",
       "\n",
       "       [[0.13333334, 0.07450981, 0.05490196],\n",
       "        [0.12156863, 0.0627451 , 0.04313726],\n",
       "        [0.10980392, 0.05098039, 0.03137255],\n",
       "        ...,\n",
       "        [0.02745098, 0.02745098, 0.03529412],\n",
       "        [0.02745098, 0.02745098, 0.03529412],\n",
       "        [0.02745098, 0.02745098, 0.03529412]],\n",
       "\n",
       "       [[0.13333334, 0.07450981, 0.05490196],\n",
       "        [0.12156863, 0.0627451 , 0.04313726],\n",
       "        [0.12156863, 0.0627451 , 0.04313726],\n",
       "        ...,\n",
       "        [0.02352941, 0.02352941, 0.03137255],\n",
       "        [0.02352941, 0.02352941, 0.03137255],\n",
       "        [0.02352941, 0.02352941, 0.03137255]],\n",
       "\n",
       "       [[0.13333334, 0.07450981, 0.05490196],\n",
       "        [0.12156863, 0.0627451 , 0.04313726],\n",
       "        [0.12156863, 0.0627451 , 0.04313726],\n",
       "        ...,\n",
       "        [0.02352941, 0.02352941, 0.03137255],\n",
       "        [0.02352941, 0.02352941, 0.03137255],\n",
       "        [0.02352941, 0.02352941, 0.03137255]]], dtype=float32)"
      ]
     },
     "execution_count": 141,
     "metadata": {},
     "output_type": "execute_result"
    }
   ],
   "source": [
    "from matplotlib.image import imread\n",
    "panda_array=imread(\"images/panda.png\")\n",
    "panda_array"
   ]
  },
  {
   "cell_type": "code",
   "execution_count": 142,
   "id": "b58b11b4",
   "metadata": {},
   "outputs": [
    {
     "data": {
      "text/plain": [
       "numpy.ndarray"
      ]
     },
     "execution_count": 142,
     "metadata": {},
     "output_type": "execute_result"
    }
   ],
   "source": [
    "type(panda_array)"
   ]
  },
  {
   "cell_type": "code",
   "execution_count": 144,
   "id": "98d34d4a",
   "metadata": {},
   "outputs": [
    {
     "data": {
      "text/plain": [
       "(24465000, (2330, 3500, 3), 3)"
      ]
     },
     "execution_count": 144,
     "metadata": {},
     "output_type": "execute_result"
    }
   ],
   "source": [
    "panda_array.size,panda_array.shape,panda_array.ndim"
   ]
  },
  {
   "cell_type": "code",
   "execution_count": null,
   "id": "f42ab20d",
   "metadata": {},
   "outputs": [],
   "source": []
  }
 ],
 "metadata": {
  "kernelspec": {
   "display_name": "Python 3",
   "language": "python",
   "name": "python3"
  },
  "language_info": {
   "codemirror_mode": {
    "name": "ipython",
    "version": 3
   },
   "file_extension": ".py",
   "mimetype": "text/x-python",
   "name": "python",
   "nbconvert_exporter": "python",
   "pygments_lexer": "ipython3",
   "version": "3.9.5"
  }
 },
 "nbformat": 4,
 "nbformat_minor": 5
}
