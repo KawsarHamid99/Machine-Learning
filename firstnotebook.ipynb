{
 "cells": [
  {
   "cell_type": "code",
   "execution_count": 4,
   "id": "d31b37a2",
   "metadata": {},
   "outputs": [],
   "source": [
    "import pandas as pd\n",
    "import numpy as np\n",
    "a1=np.random.randint(10,size=(3,5,4,3))\n"
   ]
  },
  {
   "cell_type": "code",
   "execution_count": 5,
   "id": "fe4fdedd",
   "metadata": {},
   "outputs": [
    {
     "data": {
      "text/plain": [
       "array([[[[7, 4, 7],\n",
       "         [1, 8, 3],\n",
       "         [9, 3, 4],\n",
       "         [0, 1, 5]],\n",
       "\n",
       "        [[5, 3, 4],\n",
       "         [6, 3, 4],\n",
       "         [7, 6, 9],\n",
       "         [2, 1, 0]],\n",
       "\n",
       "        [[0, 7, 0],\n",
       "         [9, 1, 1],\n",
       "         [9, 8, 8],\n",
       "         [4, 0, 1]],\n",
       "\n",
       "        [[2, 4, 1],\n",
       "         [1, 3, 8],\n",
       "         [6, 7, 5],\n",
       "         [1, 0, 3]],\n",
       "\n",
       "        [[0, 1, 4],\n",
       "         [9, 0, 8],\n",
       "         [8, 6, 8],\n",
       "         [4, 3, 7]]],\n",
       "\n",
       "\n",
       "       [[[4, 6, 8],\n",
       "         [5, 4, 4],\n",
       "         [7, 9, 8],\n",
       "         [0, 2, 0]],\n",
       "\n",
       "        [[2, 8, 9],\n",
       "         [7, 8, 5],\n",
       "         [2, 3, 9],\n",
       "         [5, 9, 1]],\n",
       "\n",
       "        [[0, 0, 3],\n",
       "         [0, 7, 1],\n",
       "         [7, 2, 1],\n",
       "         [1, 3, 3]],\n",
       "\n",
       "        [[3, 3, 8],\n",
       "         [9, 8, 5],\n",
       "         [9, 5, 5],\n",
       "         [5, 2, 8]],\n",
       "\n",
       "        [[1, 9, 4],\n",
       "         [3, 5, 5],\n",
       "         [8, 4, 8],\n",
       "         [5, 6, 0]]],\n",
       "\n",
       "\n",
       "       [[[3, 1, 1],\n",
       "         [5, 0, 0],\n",
       "         [8, 7, 5],\n",
       "         [5, 0, 2]],\n",
       "\n",
       "        [[1, 2, 4],\n",
       "         [8, 5, 4],\n",
       "         [8, 7, 3],\n",
       "         [0, 4, 7]],\n",
       "\n",
       "        [[4, 4, 3],\n",
       "         [2, 9, 3],\n",
       "         [9, 5, 9],\n",
       "         [8, 3, 3]],\n",
       "\n",
       "        [[4, 4, 1],\n",
       "         [6, 0, 8],\n",
       "         [2, 4, 9],\n",
       "         [5, 2, 1]],\n",
       "\n",
       "        [[5, 3, 6],\n",
       "         [9, 9, 0],\n",
       "         [6, 1, 7],\n",
       "         [3, 3, 0]]]])"
      ]
     },
     "execution_count": 5,
     "metadata": {},
     "output_type": "execute_result"
    }
   ],
   "source": [
    "a1\n"
   ]
  },
  {
   "cell_type": "code",
   "execution_count": 6,
   "id": "f3050261",
   "metadata": {},
   "outputs": [],
   "source": [
    "a2=np.random.randint(10,size=(5,4))"
   ]
  },
  {
   "cell_type": "code",
   "execution_count": 7,
   "id": "a63a2653",
   "metadata": {},
   "outputs": [
    {
     "data": {
      "text/plain": [
       "array([[3, 5, 0, 9],\n",
       "       [0, 4, 1, 2],\n",
       "       [5, 0, 4, 7],\n",
       "       [1, 4, 2, 7],\n",
       "       [9, 4, 3, 4]])"
      ]
     },
     "execution_count": 7,
     "metadata": {},
     "output_type": "execute_result"
    }
   ],
   "source": [
    "a2"
   ]
  },
  {
   "cell_type": "code",
   "execution_count": 10,
   "id": "a395168b",
   "metadata": {},
   "outputs": [],
   "source": [
    "data_frame=pd.DataFrame(a2,index=[\"r1\",\"r2\",\"r3\",\"r4\",\"r5\"],columns=[\"c1\",\"c2\",\"c3\",\"c4\"])"
   ]
  },
  {
   "cell_type": "code",
   "execution_count": 11,
   "id": "55b22e12",
   "metadata": {},
   "outputs": [
    {
     "data": {
      "text/html": [
       "<div>\n",
       "<style scoped>\n",
       "    .dataframe tbody tr th:only-of-type {\n",
       "        vertical-align: middle;\n",
       "    }\n",
       "\n",
       "    .dataframe tbody tr th {\n",
       "        vertical-align: top;\n",
       "    }\n",
       "\n",
       "    .dataframe thead th {\n",
       "        text-align: right;\n",
       "    }\n",
       "</style>\n",
       "<table border=\"1\" class=\"dataframe\">\n",
       "  <thead>\n",
       "    <tr style=\"text-align: right;\">\n",
       "      <th></th>\n",
       "      <th>c1</th>\n",
       "      <th>c2</th>\n",
       "      <th>c3</th>\n",
       "      <th>c4</th>\n",
       "    </tr>\n",
       "  </thead>\n",
       "  <tbody>\n",
       "    <tr>\n",
       "      <th>r1</th>\n",
       "      <td>3</td>\n",
       "      <td>5</td>\n",
       "      <td>0</td>\n",
       "      <td>9</td>\n",
       "    </tr>\n",
       "    <tr>\n",
       "      <th>r2</th>\n",
       "      <td>0</td>\n",
       "      <td>4</td>\n",
       "      <td>1</td>\n",
       "      <td>2</td>\n",
       "    </tr>\n",
       "    <tr>\n",
       "      <th>r3</th>\n",
       "      <td>5</td>\n",
       "      <td>0</td>\n",
       "      <td>4</td>\n",
       "      <td>7</td>\n",
       "    </tr>\n",
       "    <tr>\n",
       "      <th>r4</th>\n",
       "      <td>1</td>\n",
       "      <td>4</td>\n",
       "      <td>2</td>\n",
       "      <td>7</td>\n",
       "    </tr>\n",
       "    <tr>\n",
       "      <th>r5</th>\n",
       "      <td>9</td>\n",
       "      <td>4</td>\n",
       "      <td>3</td>\n",
       "      <td>4</td>\n",
       "    </tr>\n",
       "  </tbody>\n",
       "</table>\n",
       "</div>"
      ],
      "text/plain": [
       "    c1  c2  c3  c4\n",
       "r1   3   5   0   9\n",
       "r2   0   4   1   2\n",
       "r3   5   0   4   7\n",
       "r4   1   4   2   7\n",
       "r5   9   4   3   4"
      ]
     },
     "execution_count": 11,
     "metadata": {},
     "output_type": "execute_result"
    }
   ],
   "source": [
    "data_frame"
   ]
  },
  {
   "cell_type": "code",
   "execution_count": 14,
   "id": "b0d510ec",
   "metadata": {},
   "outputs": [
    {
     "data": {
      "text/plain": [
       "array([[0, 3, 5, 9],\n",
       "       [0, 1, 2, 4],\n",
       "       [0, 4, 5, 7],\n",
       "       [1, 2, 4, 7],\n",
       "       [3, 4, 4, 9]])"
      ]
     },
     "execution_count": 14,
     "metadata": {},
     "output_type": "execute_result"
    }
   ],
   "source": [
    "np.sort(data_frame)"
   ]
  },
  {
   "cell_type": "code",
   "execution_count": 15,
   "id": "55ec6188",
   "metadata": {},
   "outputs": [
    {
     "data": {
      "text/plain": [
       "array([[3, 5, 0, 9],\n",
       "       [0, 4, 1, 2],\n",
       "       [5, 0, 4, 7],\n",
       "       [1, 4, 2, 7],\n",
       "       [9, 4, 3, 4]])"
      ]
     },
     "execution_count": 15,
     "metadata": {},
     "output_type": "execute_result"
    }
   ],
   "source": [
    "a2"
   ]
  },
  {
   "cell_type": "code",
   "execution_count": 18,
   "id": "d489cbfa",
   "metadata": {},
   "outputs": [
    {
     "data": {
      "text/plain": [
       "array([3, 1, 3, 3, 0], dtype=int64)"
      ]
     },
     "execution_count": 18,
     "metadata": {},
     "output_type": "execute_result"
    }
   ],
   "source": [
    "np.argmax(a2,axis=1)"
   ]
  },
  {
   "cell_type": "code",
   "execution_count": 19,
   "id": "88845a7e",
   "metadata": {},
   "outputs": [
    {
     "data": {
      "text/plain": [
       "array([[0, 3, 5, 9],\n",
       "       [0, 1, 2, 4],\n",
       "       [0, 4, 5, 7],\n",
       "       [1, 2, 4, 7],\n",
       "       [3, 4, 4, 9]])"
      ]
     },
     "execution_count": 19,
     "metadata": {},
     "output_type": "execute_result"
    }
   ],
   "source": [
    "np.sort(a2,axis=1)"
   ]
  },
  {
   "cell_type": "markdown",
   "id": "a6feb8a4",
   "metadata": {},
   "source": [
    "<img src=\"images/dog-photo.png\"/>"
   ]
  },
  {
   "cell_type": "markdown",
   "id": "bb0afe5e",
   "metadata": {},
   "source": [
    "<img src=\"images/panda.png\"/>"
   ]
  },
  {
   "cell_type": "markdown",
   "id": "990cb6a0",
   "metadata": {},
   "source": [
    "<img src=\"images/car-photo.png\" />"
   ]
  },
  {
   "cell_type": "code",
   "execution_count": 25,
   "id": "e99adf62",
   "metadata": {},
   "outputs": [],
   "source": [
    "from matplotlib.image import imread as i"
   ]
  },
  {
   "cell_type": "code",
   "execution_count": 26,
   "id": "30bdc604",
   "metadata": {},
   "outputs": [],
   "source": [
    "pa=i(\"images/panda.png\")"
   ]
  },
  {
   "cell_type": "code",
   "execution_count": 27,
   "id": "be7924da",
   "metadata": {},
   "outputs": [
    {
     "data": {
      "text/plain": [
       "array([[[0.05490196, 0.10588235, 0.06666667],\n",
       "        [0.05490196, 0.10588235, 0.06666667],\n",
       "        [0.05490196, 0.10588235, 0.06666667],\n",
       "        ...,\n",
       "        [0.16470589, 0.12941177, 0.09411765],\n",
       "        [0.16470589, 0.12941177, 0.09411765],\n",
       "        [0.16470589, 0.12941177, 0.09411765]],\n",
       "\n",
       "       [[0.05490196, 0.10588235, 0.06666667],\n",
       "        [0.05490196, 0.10588235, 0.06666667],\n",
       "        [0.05490196, 0.10588235, 0.06666667],\n",
       "        ...,\n",
       "        [0.16470589, 0.12941177, 0.09411765],\n",
       "        [0.16470589, 0.12941177, 0.09411765],\n",
       "        [0.16470589, 0.12941177, 0.09411765]],\n",
       "\n",
       "       [[0.05490196, 0.10588235, 0.06666667],\n",
       "        [0.05490196, 0.10588235, 0.06666667],\n",
       "        [0.05490196, 0.10588235, 0.06666667],\n",
       "        ...,\n",
       "        [0.16470589, 0.12941177, 0.09411765],\n",
       "        [0.16470589, 0.12941177, 0.09411765],\n",
       "        [0.16470589, 0.12941177, 0.09411765]],\n",
       "\n",
       "       ...,\n",
       "\n",
       "       [[0.13333334, 0.07450981, 0.05490196],\n",
       "        [0.12156863, 0.0627451 , 0.04313726],\n",
       "        [0.10980392, 0.05098039, 0.03137255],\n",
       "        ...,\n",
       "        [0.02745098, 0.02745098, 0.03529412],\n",
       "        [0.02745098, 0.02745098, 0.03529412],\n",
       "        [0.02745098, 0.02745098, 0.03529412]],\n",
       "\n",
       "       [[0.13333334, 0.07450981, 0.05490196],\n",
       "        [0.12156863, 0.0627451 , 0.04313726],\n",
       "        [0.12156863, 0.0627451 , 0.04313726],\n",
       "        ...,\n",
       "        [0.02352941, 0.02352941, 0.03137255],\n",
       "        [0.02352941, 0.02352941, 0.03137255],\n",
       "        [0.02352941, 0.02352941, 0.03137255]],\n",
       "\n",
       "       [[0.13333334, 0.07450981, 0.05490196],\n",
       "        [0.12156863, 0.0627451 , 0.04313726],\n",
       "        [0.12156863, 0.0627451 , 0.04313726],\n",
       "        ...,\n",
       "        [0.02352941, 0.02352941, 0.03137255],\n",
       "        [0.02352941, 0.02352941, 0.03137255],\n",
       "        [0.02352941, 0.02352941, 0.03137255]]], dtype=float32)"
      ]
     },
     "execution_count": 27,
     "metadata": {},
     "output_type": "execute_result"
    }
   ],
   "source": [
    "pa"
   ]
  },
  {
   "cell_type": "code",
   "execution_count": 29,
   "id": "915a48d6",
   "metadata": {},
   "outputs": [
    {
     "data": {
      "text/plain": [
       "array([[12, 15,  0],\n",
       "       [ 3,  3,  7],\n",
       "       [ 9, 19, 18],\n",
       "       [ 4,  6, 12],\n",
       "       [ 1,  6,  7]])"
      ]
     },
     "execution_count": 29,
     "metadata": {},
     "output_type": "execute_result"
    }
   ],
   "source": [
    "np.random.seed(0)\n",
    "sa=np.random.randint(20,size=(5,3))\n",
    "sa"
   ]
  },
  {
   "cell_type": "code",
   "execution_count": 31,
   "id": "d7bad48e",
   "metadata": {},
   "outputs": [],
   "source": [
    "ws=pd.DataFrame(sa,index=[\"mon\",\"tues\",\"thurs\",\"wed\",\"fri\"],columns=[\"Almond\",\"Peanut\",\"cashew\"])"
   ]
  },
  {
   "cell_type": "code",
   "execution_count": 32,
   "id": "4c7863ae",
   "metadata": {},
   "outputs": [
    {
     "data": {
      "text/html": [
       "<div>\n",
       "<style scoped>\n",
       "    .dataframe tbody tr th:only-of-type {\n",
       "        vertical-align: middle;\n",
       "    }\n",
       "\n",
       "    .dataframe tbody tr th {\n",
       "        vertical-align: top;\n",
       "    }\n",
       "\n",
       "    .dataframe thead th {\n",
       "        text-align: right;\n",
       "    }\n",
       "</style>\n",
       "<table border=\"1\" class=\"dataframe\">\n",
       "  <thead>\n",
       "    <tr style=\"text-align: right;\">\n",
       "      <th></th>\n",
       "      <th>Almond</th>\n",
       "      <th>Peanut</th>\n",
       "      <th>cashew</th>\n",
       "    </tr>\n",
       "  </thead>\n",
       "  <tbody>\n",
       "    <tr>\n",
       "      <th>mon</th>\n",
       "      <td>12</td>\n",
       "      <td>15</td>\n",
       "      <td>0</td>\n",
       "    </tr>\n",
       "    <tr>\n",
       "      <th>tues</th>\n",
       "      <td>3</td>\n",
       "      <td>3</td>\n",
       "      <td>7</td>\n",
       "    </tr>\n",
       "    <tr>\n",
       "      <th>thurs</th>\n",
       "      <td>9</td>\n",
       "      <td>19</td>\n",
       "      <td>18</td>\n",
       "    </tr>\n",
       "    <tr>\n",
       "      <th>wed</th>\n",
       "      <td>4</td>\n",
       "      <td>6</td>\n",
       "      <td>12</td>\n",
       "    </tr>\n",
       "    <tr>\n",
       "      <th>fri</th>\n",
       "      <td>1</td>\n",
       "      <td>6</td>\n",
       "      <td>7</td>\n",
       "    </tr>\n",
       "  </tbody>\n",
       "</table>\n",
       "</div>"
      ],
      "text/plain": [
       "       Almond  Peanut  cashew\n",
       "mon        12      15       0\n",
       "tues        3       3       7\n",
       "thurs       9      19      18\n",
       "wed         4       6      12\n",
       "fri         1       6       7"
      ]
     },
     "execution_count": 32,
     "metadata": {},
     "output_type": "execute_result"
    }
   ],
   "source": [
    "ws"
   ]
  },
  {
   "cell_type": "code",
   "execution_count": 41,
   "id": "70469027",
   "metadata": {},
   "outputs": [],
   "source": []
  },
  {
   "cell_type": "code",
   "execution_count": 37,
   "id": "c7e2e164",
   "metadata": {},
   "outputs": [],
   "source": [
    "price=np.random.randint(10,size=(1,3))"
   ]
  },
  {
   "cell_type": "code",
   "execution_count": 39,
   "id": "331af6dc",
   "metadata": {},
   "outputs": [
    {
     "data": {
      "text/plain": [
       "array([[5, 9, 8]])"
      ]
     },
     "execution_count": 39,
     "metadata": {},
     "output_type": "execute_result"
    }
   ],
   "source": [
    "price"
   ]
  },
  {
   "cell_type": "code",
   "execution_count": 42,
   "id": "bc6b11d6",
   "metadata": {},
   "outputs": [],
   "source": [
    "butterPrice=pd.DataFrame(price,index=[\"price\"],columns=[\"Almond\",\"Peanut\",\"cashew\"])"
   ]
  },
  {
   "cell_type": "code",
   "execution_count": 43,
   "id": "ac742c42",
   "metadata": {},
   "outputs": [
    {
     "data": {
      "text/html": [
       "<div>\n",
       "<style scoped>\n",
       "    .dataframe tbody tr th:only-of-type {\n",
       "        vertical-align: middle;\n",
       "    }\n",
       "\n",
       "    .dataframe tbody tr th {\n",
       "        vertical-align: top;\n",
       "    }\n",
       "\n",
       "    .dataframe thead th {\n",
       "        text-align: right;\n",
       "    }\n",
       "</style>\n",
       "<table border=\"1\" class=\"dataframe\">\n",
       "  <thead>\n",
       "    <tr style=\"text-align: right;\">\n",
       "      <th></th>\n",
       "      <th>Almond</th>\n",
       "      <th>Peanut</th>\n",
       "      <th>cashew</th>\n",
       "    </tr>\n",
       "  </thead>\n",
       "  <tbody>\n",
       "    <tr>\n",
       "      <th>price</th>\n",
       "      <td>5</td>\n",
       "      <td>9</td>\n",
       "      <td>8</td>\n",
       "    </tr>\n",
       "  </tbody>\n",
       "</table>\n",
       "</div>"
      ],
      "text/plain": [
       "       Almond  Peanut  cashew\n",
       "price       5       9       8"
      ]
     },
     "execution_count": 43,
     "metadata": {},
     "output_type": "execute_result"
    }
   ],
   "source": [
    "butterPrice"
   ]
  },
  {
   "cell_type": "code",
   "execution_count": 50,
   "id": "6e337d70",
   "metadata": {},
   "outputs": [
    {
     "data": {
      "text/plain": [
       "array([[195,  98, 360, 170, 115]])"
      ]
     },
     "execution_count": 50,
     "metadata": {},
     "output_type": "execute_result"
    }
   ],
   "source": [
    "totalsale=np.dot(butterPrice,ws.T)\n",
    "totalsale"
   ]
  },
  {
   "cell_type": "code",
   "execution_count": 51,
   "id": "9fd4467b",
   "metadata": {},
   "outputs": [],
   "source": [
    "ws[\"total ($)\"]=totalsale.T"
   ]
  },
  {
   "cell_type": "code",
   "execution_count": 52,
   "id": "e5bb1333",
   "metadata": {},
   "outputs": [
    {
     "data": {
      "text/html": [
       "<div>\n",
       "<style scoped>\n",
       "    .dataframe tbody tr th:only-of-type {\n",
       "        vertical-align: middle;\n",
       "    }\n",
       "\n",
       "    .dataframe tbody tr th {\n",
       "        vertical-align: top;\n",
       "    }\n",
       "\n",
       "    .dataframe thead th {\n",
       "        text-align: right;\n",
       "    }\n",
       "</style>\n",
       "<table border=\"1\" class=\"dataframe\">\n",
       "  <thead>\n",
       "    <tr style=\"text-align: right;\">\n",
       "      <th></th>\n",
       "      <th>Almond</th>\n",
       "      <th>Peanut</th>\n",
       "      <th>cashew</th>\n",
       "      <th>total ($)</th>\n",
       "    </tr>\n",
       "  </thead>\n",
       "  <tbody>\n",
       "    <tr>\n",
       "      <th>mon</th>\n",
       "      <td>12</td>\n",
       "      <td>15</td>\n",
       "      <td>0</td>\n",
       "      <td>195</td>\n",
       "    </tr>\n",
       "    <tr>\n",
       "      <th>tues</th>\n",
       "      <td>3</td>\n",
       "      <td>3</td>\n",
       "      <td>7</td>\n",
       "      <td>98</td>\n",
       "    </tr>\n",
       "    <tr>\n",
       "      <th>thurs</th>\n",
       "      <td>9</td>\n",
       "      <td>19</td>\n",
       "      <td>18</td>\n",
       "      <td>360</td>\n",
       "    </tr>\n",
       "    <tr>\n",
       "      <th>wed</th>\n",
       "      <td>4</td>\n",
       "      <td>6</td>\n",
       "      <td>12</td>\n",
       "      <td>170</td>\n",
       "    </tr>\n",
       "    <tr>\n",
       "      <th>fri</th>\n",
       "      <td>1</td>\n",
       "      <td>6</td>\n",
       "      <td>7</td>\n",
       "      <td>115</td>\n",
       "    </tr>\n",
       "  </tbody>\n",
       "</table>\n",
       "</div>"
      ],
      "text/plain": [
       "       Almond  Peanut  cashew  total ($)\n",
       "mon        12      15       0        195\n",
       "tues        3       3       7         98\n",
       "thurs       9      19      18        360\n",
       "wed         4       6      12        170\n",
       "fri         1       6       7        115"
      ]
     },
     "execution_count": 52,
     "metadata": {},
     "output_type": "execute_result"
    }
   ],
   "source": [
    "ws"
   ]
  },
  {
   "cell_type": "code",
   "execution_count": 53,
   "id": "b84c5047",
   "metadata": {},
   "outputs": [
    {
     "data": {
      "text/plain": [
       "(array([[5., 0., 0., 0., 0., 0., 0., 0., 0., 0.],\n",
       "        [5., 0., 0., 0., 0., 0., 0., 0., 0., 0.],\n",
       "        [5., 0., 0., 0., 0., 0., 0., 0., 0., 0.],\n",
       "        [0., 0., 1., 1., 1., 1., 0., 0., 0., 1.]]),\n",
       " array([  0.,  36.,  72., 108., 144., 180., 216., 252., 288., 324., 360.]),\n",
       " <a list of 4 BarContainer objects>)"
      ]
     },
     "execution_count": 53,
     "metadata": {},
     "output_type": "execute_result"
    },
    {
     "data": {
      "image/png": "[encoded data removed]",
      "text/plain": [
       "<Figure size 432x288 with 1 Axes>"
      ]
     },
     "metadata": {
      "needs_background": "light"
     },
     "output_type": "display_data"
    }
   ],
   "source": [
    "import matplotlib.pyplot as plt\n",
    "plt.hist(ws)"
   ]
  },
  {
   "cell_type": "code",
   "execution_count": 55,
   "id": "4d65a49d",
   "metadata": {},
   "outputs": [
    {
     "data": {
      "image/png": "[encoded data removed]",
      "text/plain": [
       "<Figure size 432x288 with 1 Axes>"
      ]
     },
     "metadata": {
      "needs_background": "light"
     },
     "output_type": "display_data"
    }
   ],
   "source": [
    "plt.hist(a2)\n",
    "plt.show()"
   ]
  },
  {
   "cell_type": "code",
   "execution_count": 56,
   "id": "799be6bf",
   "metadata": {},
   "outputs": [
    {
     "data": {
      "text/plain": [
       "array([[3, 5, 0, 9],\n",
       "       [0, 4, 1, 2],\n",
       "       [5, 0, 4, 7],\n",
       "       [1, 4, 2, 7],\n",
       "       [9, 4, 3, 4]])"
      ]
     },
     "execution_count": 56,
     "metadata": {},
     "output_type": "execute_result"
    }
   ],
   "source": [
    "a2"
   ]
  },
  {
   "cell_type": "code",
   "execution_count": 57,
   "id": "a467064f",
   "metadata": {},
   "outputs": [
    {
     "name": "stdout",
     "output_type": "stream",
     "text": [
      "7.14 µs ± 108 ns per loop (mean ± std. dev. of 7 runs, 100000 loops each)\n"
     ]
    }
   ],
   "source": [
    "%timeit sum(a2,a2)"
   ]
  },
  {
   "cell_type": "code",
   "execution_count": null,
   "id": "51472965",
   "metadata": {},
   "outputs": [],
   "source": [
    " "
   ]
  }
 ],
 "metadata": {
  "kernelspec": {
   "display_name": "Python 3",
   "language": "python",
   "name": "python3"
  },
  "language_info": {
   "codemirror_mode": {
    "name": "ipython",
    "version": 3
   },
   "file_extension": ".py",
   "mimetype": "text/x-python",
   "name": "python",
   "nbconvert_exporter": "python",
   "pygments_lexer": "ipython3",
   "version": "3.9.5"
  }
 },
 "nbformat": 4,
 "nbformat_minor": 5
}
