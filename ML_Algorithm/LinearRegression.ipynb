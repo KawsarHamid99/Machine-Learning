{
 "cells": [
  {
   "cell_type": "markdown",
   "id": "b1416a96",
   "metadata": {},
   "source": [
    "Name: Nura Jannat Rakhi                                                                                                         \n",
    "Id: 19-40042-1                                                                                                                 \n",
    "Section: E\n"
   ]
  },
  {
   "cell_type": "code",
   "execution_count": null,
   "id": "790dca2e",
   "metadata": {},
   "outputs": [],
   "source": [
    "import pandas as pd\n",
    "from sklearn.model_selection import train_test_split\n",
    "from sklearn.preprocessing import StandardScaler\n",
    "from sklearn.linear_model import LinearRegression"
   ]
  },
  {
   "cell_type": "code",
   "execution_count": 2,
   "id": "e337584a",
   "metadata": {},
   "outputs": [],
   "source": [
    "#this data directely gel from google \n",
    "\n",
    "path = r\"https://drive.google.com/uc?export=download&id=1xxDtrZKfuWQfl-6KA9XEd_eatitNPnkB\""
   ]
  },
  {
   "cell_type": "code",
   "execution_count": 3,
   "id": "acc97e16",
   "metadata": {
    "scrolled": true
   },
   "outputs": [
    {
     "data": {
      "text/html": [
       "<div>\n",
       "<style scoped>\n",
       "    .dataframe tbody tr th:only-of-type {\n",
       "        vertical-align: middle;\n",
       "    }\n",
       "\n",
       "    .dataframe tbody tr th {\n",
       "        vertical-align: top;\n",
       "    }\n",
       "\n",
       "    .dataframe thead th {\n",
       "        text-align: right;\n",
       "    }\n",
       "</style>\n",
       "<table border=\"1\" class=\"dataframe\">\n",
       "  <thead>\n",
       "    <tr style=\"text-align: right;\">\n",
       "      <th></th>\n",
       "      <th>bath</th>\n",
       "      <th>balcony</th>\n",
       "      <th>price</th>\n",
       "      <th>total_sqft_int</th>\n",
       "      <th>bhk</th>\n",
       "      <th>price_per_sqft</th>\n",
       "      <th>area_typeSuper built-up  Area</th>\n",
       "      <th>area_typeBuilt-up  Area</th>\n",
       "      <th>area_typePlot  Area</th>\n",
       "      <th>availability_Ready To Move</th>\n",
       "      <th>...</th>\n",
       "      <th>location_Kalena Agrahara</th>\n",
       "      <th>location_Horamavu Agara</th>\n",
       "      <th>location_Vidyaranyapura</th>\n",
       "      <th>location_BTM 2nd Stage</th>\n",
       "      <th>location_Hebbal Kempapura</th>\n",
       "      <th>location_Hosur Road</th>\n",
       "      <th>location_Horamavu Banaswadi</th>\n",
       "      <th>location_Domlur</th>\n",
       "      <th>location_Mahadevpura</th>\n",
       "      <th>location_Tumkur Road</th>\n",
       "    </tr>\n",
       "  </thead>\n",
       "  <tbody>\n",
       "    <tr>\n",
       "      <th>0</th>\n",
       "      <td>3.0</td>\n",
       "      <td>2.0</td>\n",
       "      <td>150.0</td>\n",
       "      <td>1672.0</td>\n",
       "      <td>3</td>\n",
       "      <td>8971.291866</td>\n",
       "      <td>1</td>\n",
       "      <td>0</td>\n",
       "      <td>0</td>\n",
       "      <td>1</td>\n",
       "      <td>...</td>\n",
       "      <td>0</td>\n",
       "      <td>0</td>\n",
       "      <td>0</td>\n",
       "      <td>0</td>\n",
       "      <td>0</td>\n",
       "      <td>0</td>\n",
       "      <td>0</td>\n",
       "      <td>0</td>\n",
       "      <td>0</td>\n",
       "      <td>0</td>\n",
       "    </tr>\n",
       "    <tr>\n",
       "      <th>1</th>\n",
       "      <td>3.0</td>\n",
       "      <td>3.0</td>\n",
       "      <td>149.0</td>\n",
       "      <td>1750.0</td>\n",
       "      <td>3</td>\n",
       "      <td>8514.285714</td>\n",
       "      <td>0</td>\n",
       "      <td>1</td>\n",
       "      <td>0</td>\n",
       "      <td>1</td>\n",
       "      <td>...</td>\n",
       "      <td>0</td>\n",
       "      <td>0</td>\n",
       "      <td>0</td>\n",
       "      <td>0</td>\n",
       "      <td>0</td>\n",
       "      <td>0</td>\n",
       "      <td>0</td>\n",
       "      <td>0</td>\n",
       "      <td>0</td>\n",
       "      <td>0</td>\n",
       "    </tr>\n",
       "    <tr>\n",
       "      <th>2</th>\n",
       "      <td>3.0</td>\n",
       "      <td>2.0</td>\n",
       "      <td>150.0</td>\n",
       "      <td>1750.0</td>\n",
       "      <td>3</td>\n",
       "      <td>8571.428571</td>\n",
       "      <td>1</td>\n",
       "      <td>0</td>\n",
       "      <td>0</td>\n",
       "      <td>1</td>\n",
       "      <td>...</td>\n",
       "      <td>0</td>\n",
       "      <td>0</td>\n",
       "      <td>0</td>\n",
       "      <td>0</td>\n",
       "      <td>0</td>\n",
       "      <td>0</td>\n",
       "      <td>0</td>\n",
       "      <td>0</td>\n",
       "      <td>0</td>\n",
       "      <td>0</td>\n",
       "    </tr>\n",
       "  </tbody>\n",
       "</table>\n",
       "<p>3 rows × 108 columns</p>\n",
       "</div>"
      ],
      "text/plain": [
       "   bath  balcony  price  total_sqft_int  bhk  price_per_sqft  \\\n",
       "0   3.0      2.0  150.0          1672.0    3     8971.291866   \n",
       "1   3.0      3.0  149.0          1750.0    3     8514.285714   \n",
       "2   3.0      2.0  150.0          1750.0    3     8571.428571   \n",
       "\n",
       "   area_typeSuper built-up  Area  area_typeBuilt-up  Area  \\\n",
       "0                              1                        0   \n",
       "1                              0                        1   \n",
       "2                              1                        0   \n",
       "\n",
       "   area_typePlot  Area  availability_Ready To Move  ...  \\\n",
       "0                    0                           1  ...   \n",
       "1                    0                           1  ...   \n",
       "2                    0                           1  ...   \n",
       "\n",
       "   location_Kalena Agrahara  location_Horamavu Agara  location_Vidyaranyapura  \\\n",
       "0                         0                        0                        0   \n",
       "1                         0                        0                        0   \n",
       "2                         0                        0                        0   \n",
       "\n",
       "   location_BTM 2nd Stage  location_Hebbal Kempapura  location_Hosur Road  \\\n",
       "0                       0                          0                    0   \n",
       "1                       0                          0                    0   \n",
       "2                       0                          0                    0   \n",
       "\n",
       "   location_Horamavu Banaswadi  location_Domlur  location_Mahadevpura  \\\n",
       "0                            0                0                     0   \n",
       "1                            0                0                     0   \n",
       "2                            0                0                     0   \n",
       "\n",
       "   location_Tumkur Road  \n",
       "0                     0  \n",
       "1                     0  \n",
       "2                     0  \n",
       "\n",
       "[3 rows x 108 columns]"
      ]
     },
     "execution_count": 3,
     "metadata": {},
     "output_type": "execute_result"
    }
   ],
   "source": [
    "df=pd.read_csv(path)\n",
    "df.head(3)"
   ]
  },
  {
   "cell_type": "code",
   "execution_count": 4,
   "id": "007b8b58",
   "metadata": {},
   "outputs": [
    {
     "data": {
      "text/plain": [
       "'https://drive.google.com/uc?export=download&id=1xxDtrZKfuWQfl-6KA9XEd_eatitNPnkB'"
      ]
     },
     "execution_count": 4,
     "metadata": {},
     "output_type": "execute_result"
    }
   ],
   "source": [
    "path"
   ]
  },
  {
   "cell_type": "code",
   "execution_count": 5,
   "id": "6a097a99",
   "metadata": {},
   "outputs": [],
   "source": [
    "X=df.drop(\"price\",axis=1)\n",
    "y=df[\"price\"]\n",
    "\n",
    "x_train,x_test,y_train,y_test=train_test_split(X,y,test_size=0.2,random_state=42)\n",
    "\n",
    "sc=StandardScaler()\n",
    "sc.fit(x_train)\n",
    "x_train2=sc.transform(x_train)\n",
    "x_test2=sc.transform(x_test)"
   ]
  },
  {
   "cell_type": "code",
   "execution_count": null,
   "id": "31f10257",
   "metadata": {},
   "outputs": [],
   "source": []
  },
  {
   "cell_type": "code",
   "execution_count": 6,
   "id": "03d2e815",
   "metadata": {},
   "outputs": [
    {
     "data": {
      "text/plain": [
       "LinearRegression()"
      ]
     },
     "execution_count": 6,
     "metadata": {},
     "output_type": "execute_result"
    }
   ],
   "source": [
    "model=LinearRegression()\n",
    "model.fit(x_train2,y_train)"
   ]
  },
  {
   "cell_type": "code",
   "execution_count": 7,
   "id": "bb98ec32",
   "metadata": {},
   "outputs": [
    {
     "data": {
      "text/plain": [
       "array([ 2.10697065e+00, -2.17344834e-01,  8.09618462e+01, -1.24299891e+01,\n",
       "        6.46517341e+01,  1.03875798e+00, -4.22390680e-01, -2.65025781e+00,\n",
       "       -2.19644047e+00, -3.49542058e+00, -2.41964049e+00,  5.18163738e-01,\n",
       "       -9.85932364e-01,  2.03844761e+00,  4.46666102e-01, -1.52874675e+00,\n",
       "       -2.62459460e-01,  2.60433514e+00, -1.51294200e+00,  2.14934596e+00,\n",
       "       -2.86208603e+00, -1.66252417e+00, -7.95799325e-01, -8.62504507e-02,\n",
       "        1.07791797e+00,  1.96293241e+00, -5.04836289e+00, -8.69534019e-01,\n",
       "       -4.98395153e-01,  1.76024251e+00, -3.45079920e-01, -4.54048600e-01,\n",
       "        7.04203932e-01, -1.34675947e+00,  1.28669286e-01, -1.41551169e+00,\n",
       "        4.51518203e-01,  7.11760189e-01,  3.18362190e+00,  1.66133380e-01,\n",
       "        5.49930798e-01,  3.17196511e-01, -2.04326026e-01,  1.19513163e+00,\n",
       "       -1.64190125e+00, -3.13728979e+00, -1.55812680e-01,  4.38329320e-02,\n",
       "       -6.38027870e-01, -1.69795204e+00, -1.13734096e+00,  6.08899775e-01,\n",
       "        1.13372540e+00, -3.07142961e-01, -9.02518727e-01,  1.43083295e+00,\n",
       "        2.39184270e+00, -1.99545949e-01, -2.01931312e+00, -1.10659547e+00,\n",
       "        9.79850240e-01, -4.20284916e-01, -1.18948530e-01, -4.98403534e-02,\n",
       "       -1.67495699e+00,  1.42807167e+00, -9.65253660e-01, -1.04604149e+00,\n",
       "       -7.23180694e-01,  2.00516819e-01, -8.41936975e-01, -3.99211115e-01,\n",
       "       -1.94579737e+00, -1.14964292e+00,  2.88586175e-01,  1.48646792e+00,\n",
       "       -8.65679170e-01,  2.18974179e-01, -3.57647740e-01, -1.85310694e+00,\n",
       "        5.28675273e-01,  1.14357445e-01,  1.21626559e-01,  3.10818763e+00,\n",
       "        2.34897294e+00, -8.00744593e-01, -2.86510252e-01,  2.11207982e+00,\n",
       "        1.09413112e-01,  5.97101917e-02,  1.87264752e-01,  1.54194499e+00,\n",
       "        9.73878752e-01, -1.12989530e+00,  2.53921352e-01, -7.36355678e-01,\n",
       "        1.68911304e+00,  3.95149746e-01,  1.08528123e+00,  6.02783886e-01,\n",
       "       -6.15400569e-01, -1.73921470e+00, -3.81989752e-01,  7.70318970e-01,\n",
       "       -1.15720361e+00,  3.96377949e-01, -4.80080978e-01])"
      ]
     },
     "execution_count": 7,
     "metadata": {},
     "output_type": "execute_result"
    }
   ],
   "source": [
    "model.coef_"
   ]
  },
  {
   "cell_type": "code",
   "execution_count": 8,
   "id": "bb98f084",
   "metadata": {},
   "outputs": [
    {
     "data": {
      "text/plain": [
       "96.10553809691011"
      ]
     },
     "execution_count": 8,
     "metadata": {},
     "output_type": "execute_result"
    }
   ],
   "source": [
    "model.intercept_"
   ]
  },
  {
   "cell_type": "code",
   "execution_count": 9,
   "id": "5bf5c5ea",
   "metadata": {},
   "outputs": [
    {
     "data": {
      "text/plain": [
       "array([[-0.44422611,  0.54630035, -0.34334897, ..., -0.04782807,\n",
       "        -0.05138463, -0.04782807],\n",
       "       [-0.44422611,  0.54630035, -0.27826857, ..., -0.04782807,\n",
       "        -0.05138463, -0.04782807],\n",
       "       [-0.44422611, -0.74202271, -0.29716288, ..., -0.04782807,\n",
       "        -0.05138463, -0.04782807],\n",
       "       ...,\n",
       "       [-0.44422611,  0.54630035, -0.35909422, ..., -0.04782807,\n",
       "        -0.05138463, -0.04782807],\n",
       "       [-0.44422611, -0.74202271, -0.69604273, ..., -0.04782807,\n",
       "        -0.05138463, -0.04782807],\n",
       "       [-0.44422611, -0.74202271, -0.40842936, ..., -0.04782807,\n",
       "        -0.05138463, -0.04782807]])"
      ]
     },
     "execution_count": 9,
     "metadata": {},
     "output_type": "execute_result"
    }
   ],
   "source": [
    "x_test2"
   ]
  },
  {
   "cell_type": "code",
   "execution_count": 10,
   "id": "24ffdd39",
   "metadata": {},
   "outputs": [
    {
     "data": {
      "text/plain": [
       "array([-0.44422611,  0.54630035, -0.34334897, -0.55044507, -0.72383255,\n",
       "        0.57680968, -0.47233992, -0.25703648,  0.50597314, -0.18727461,\n",
       "       -0.16162122, -0.15580825, -0.1288342 , -0.13023539, -0.12812824,\n",
       "       -0.12234347,  7.59747652, -0.12741862, -0.12234347, -0.10909925,\n",
       "       -0.1082724 , -0.1082724 , -0.11472827, -0.10743948, -0.09218776,\n",
       "       -0.09315135, -0.08823182, -0.08923672, -0.09023078, -0.08195215,\n",
       "       -0.08514823, -0.0830308 , -0.08514823, -0.07276497, -0.07975227,\n",
       "       -0.07975227, -0.07749158, -0.0739743 , -0.06901264, -0.0751646 ,\n",
       "       -0.07153563, -0.0751646 , -0.0751646 , -0.0751646 , -0.07749158,\n",
       "       -0.07633675, -0.07276497, -0.06901264, -0.0739743 , -0.07276497,\n",
       "       -0.07028523, -0.06504853, -0.0677166 , -0.0677166 , -0.0677166 ,\n",
       "       -0.06504853, -0.07153563, -0.06367332, -0.06226825, -0.06639573,\n",
       "       -0.06226825, -0.06367332, -0.06504853, -0.06504853, -0.06504853,\n",
       "       -0.06083125, -0.05785186, -0.06639573, -0.06226825, -0.06367332,\n",
       "       -0.06226825, -0.06504853, -0.06504853, -0.05471275, -0.06083125,\n",
       "       -0.06504853, -0.05307449, -0.06367332, -0.05935999, -0.05630391,\n",
       "       -0.06226825, -0.05785186, -0.05785186, -0.06083125, -0.06083125,\n",
       "       -0.05471275, -0.05785186, -0.05138463, -0.06083125, -0.06226825,\n",
       "       -0.05471275, -0.05471275, -0.06083125, -0.05785186, -0.05307449,\n",
       "       -0.05307449, -0.05785186, -0.05785186, -0.05138463, -0.05138463,\n",
       "       -0.05935999, -0.05630391, -0.05307449, -0.05138463, -0.04782807,\n",
       "       -0.05138463, -0.04782807])"
      ]
     },
     "execution_count": 10,
     "metadata": {},
     "output_type": "execute_result"
    }
   ],
   "source": [
    "x_test2[0,:]"
   ]
  },
  {
   "cell_type": "code",
   "execution_count": 11,
   "id": "566e6323",
   "metadata": {},
   "outputs": [
    {
     "data": {
      "text/plain": [
       "array([27.20184313])"
      ]
     },
     "execution_count": 11,
     "metadata": {},
     "output_type": "execute_result"
    }
   ],
   "source": [
    "model.predict([x_test2[0,:]])"
   ]
  },
  {
   "cell_type": "code",
   "execution_count": 12,
   "id": "f58f2d79",
   "metadata": {},
   "outputs": [
    {
     "data": {
      "text/plain": [
       "array([27.20184313, 52.88038063, 64.11169828, ..., 51.13592971,\n",
       "       11.96514123, 34.76431452])"
      ]
     },
     "execution_count": 12,
     "metadata": {},
     "output_type": "execute_result"
    }
   ],
   "source": [
    "model.predict(x_test2)"
   ]
  },
  {
   "cell_type": "code",
   "execution_count": 13,
   "id": "e80f2a48",
   "metadata": {},
   "outputs": [
    {
     "data": {
      "text/plain": [
       "960      47.0\n",
       "132      60.0\n",
       "2431     65.0\n",
       "2229    325.0\n",
       "4503     60.0\n",
       "        ...  \n",
       "4970     48.0\n",
       "553     205.0\n",
       "1397     56.5\n",
       "4056     26.0\n",
       "1817     49.0\n",
       "Name: price, Length: 1424, dtype: float64"
      ]
     },
     "execution_count": 13,
     "metadata": {},
     "output_type": "execute_result"
    }
   ],
   "source": [
    "y_test"
   ]
  },
  {
   "cell_type": "code",
   "execution_count": 14,
   "id": "0c37349a",
   "metadata": {},
   "outputs": [
    {
     "data": {
      "text/plain": [
       "0.919680813221159"
      ]
     },
     "execution_count": 14,
     "metadata": {},
     "output_type": "execute_result"
    }
   ],
   "source": [
    "model.score(x_test2,y_test)"
   ]
  },
  {
   "cell_type": "code",
   "execution_count": null,
   "id": "68bbb6a0",
   "metadata": {},
   "outputs": [],
   "source": []
  }
 ],
 "metadata": {
  "kernelspec": {
   "display_name": "Python 3",
   "language": "python",
   "name": "python3"
  },
  "language_info": {
   "codemirror_mode": {
    "name": "ipython",
    "version": 3
   },
   "file_extension": ".py",
   "mimetype": "text/x-python",
   "name": "python",
   "nbconvert_exporter": "python",
   "pygments_lexer": "ipython3",
   "version": "3.9.5"
  }
 },
 "nbformat": 4,
 "nbformat_minor": 5
}
