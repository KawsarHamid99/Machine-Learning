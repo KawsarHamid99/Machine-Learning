{
 "cells": [
  {
   "cell_type": "markdown",
   "id": "8ee6ac86",
   "metadata": {},
   "source": [
    "> Name: Hamid Kawsar                                                                                                           \n",
    "> ID: 19-40077-1"
   ]
  },
  {
   "cell_type": "markdown",
   "id": "5c4f5ad8",
   "metadata": {},
   "source": [
    "#### Apriori Algorithm and it's Implementation in Python"
   ]
  },
  {
   "cell_type": "code",
   "execution_count": null,
   "id": "d6b2b055",
   "metadata": {},
   "outputs": [],
   "source": []
  }
 ],
 "metadata": {
  "kernelspec": {
   "display_name": "Python 3",
   "language": "python",
   "name": "python3"
  },
  "language_info": {
   "codemirror_mode": {
    "name": "ipython",
    "version": 3
   },
   "file_extension": ".py",
   "mimetype": "text/x-python",
   "name": "python",
   "nbconvert_exporter": "python",
   "pygments_lexer": "ipython3",
   "version": "3.9.5"
  }
 },
 "nbformat": 4,
 "nbformat_minor": 5
}
